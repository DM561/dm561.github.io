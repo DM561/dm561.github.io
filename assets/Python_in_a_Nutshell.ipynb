{
 "cells": [
  {
   "cell_type": "markdown",
   "metadata": {},
   "source": [
    "<a rel=\"license\" href=\"http://creativecommons.org/licenses/by/4.0/\"><img alt=\"Creative Commons License\" style=\"border-width:0\" src=\"https://i.creativecommons.org/l/by/4.0/88x31.png\" /></a><br /><span xmlns:dct=\"http://purl.org/dc/terms/\" property=\"dct:title\"><b>Python in a Nutshell</b></span> was started by <a xmlns:cc=\"http://creativecommons.org/ns#\" href=\"http://mate.unipv.it/gualandi\" property=\"cc:attributionName\" rel=\"cc:attributionURL\">Stefano Gualandi</a> is licensed under a <a rel=\"license\" href=\"http://creativecommons.org/licenses/by/4.0/\">Creative Commons Attribution 4.0 International License</a>.<br />Based on a work at <a xmlns:dct=\"http://purl.org/dc/terms/\" href=\"https://github.com/mathcoding/opt4ds\" rel=\"dct:source\">https://github.com/mathcoding/opt4ds</a>."
   ]
  },
  {
   "cell_type": "markdown",
   "metadata": {
    "colab_type": "text",
    "id": "83a5dYNPOBac"
   },
   "source": [
    "# 1. Python in a Nutshell\n",
    "\n",
    "In this notebook, we will review the basic syntax of Python. \n",
    "\n",
    "This tutorial is targeted to students that have little or no knowledge about Python, but have basic programming experience with other programming languages such as Java, Matlab or ANSI C.\n",
    "\n",
    "\n",
    "\n",
    "### Playing with this notebook\n",
    "\n",
    "For an overview on how to use the Colab Notebooks, we recommend this [video tutorial](https://www.youtube.com/watch?v=inN8seMm7UI).\n",
    "\n",
    "We recommend to try the code snippets and to try to modify the lines of code to better understand how the Python interpreter executes each command."
   ]
  },
  {
   "cell_type": "markdown",
   "metadata": {
    "colab_type": "text",
    "id": "tSEAShw8dN8u"
   },
   "source": [
    "## 1.1 Basic Data Types\n",
    "Let us start by considering the basic data types used in almost every useful program: *numbers*, *logical values*, and *strings*. "
   ]
  },
  {
   "cell_type": "markdown",
   "metadata": {
    "colab_type": "text",
    "id": "YeyGQwQNBKpp"
   },
   "source": [
    "### 1.1.1 Numbers\n",
    "Look at the following code, where we are defining a program variable named `a` to which we assign the value 1. To execute the code either click the \"play\" icon or press CTRL+ENTER."
   ]
  },
  {
   "cell_type": "code",
   "execution_count": 1,
   "metadata": {
    "colab": {},
    "colab_type": "code",
    "id": "PZwL2CFfOcdB"
   },
   "outputs": [],
   "source": [
    "a = 1"
   ]
  },
  {
   "cell_type": "code",
   "execution_count": 2,
   "metadata": {
    "colab": {
     "base_uri": "https://localhost:8080/",
     "height": 34
    },
    "colab_type": "code",
    "id": "IcteYLS0CGt-",
    "outputId": "8db4be8b-3be8-4479-c80d-d0a8b1256547"
   },
   "outputs": [
    {
     "output_type": "stream",
     "name": "stdout",
     "text": [
      "1\n"
     ]
    }
   ],
   "source": [
    "print(a)"
   ]
  },
  {
   "cell_type": "markdown",
   "metadata": {
    "colab_type": "text",
    "id": "thax81TcPRWf"
   },
   "source": [
    "In order to check the type of the variable, you can use the `type` function:"
   ]
  },
  {
   "cell_type": "code",
   "execution_count": 3,
   "metadata": {
    "colab": {
     "base_uri": "https://localhost:8080/",
     "height": 34
    },
    "colab_type": "code",
    "id": "cHhi8rrLPAhx",
    "outputId": "e3d678de-694b-4487-d21c-aaa8acb0713a"
   },
   "outputs": [
    {
     "output_type": "execute_result",
     "data": {
      "text/plain": [
       "int"
      ]
     },
     "metadata": {},
     "execution_count": 3
    }
   ],
   "source": [
    "type(a)"
   ]
  },
  {
   "cell_type": "markdown",
   "metadata": {
    "colab_type": "text",
    "id": "gSXNSKvAPbsA"
   },
   "source": [
    "By default, the notebook interpreter running a single line of code tries to print a value resulting from evaluating an expression. Note that `a = 1` is an assignment operation, which does not produce a result, and hence the interpreter did not print anything. While `type(a)` is a function invocation that returns the type of the variable `a`, thus printing its value on the screen.\n",
    "\n",
    "> Please, take the good habit of reading the documentation. \n",
    "\n",
    "You can have access to the documentation of a function by typing '?' followed by the name of the module followed by the function: eg, `?type`. The function `type` is fully described online a this link: [type](https://docs.python.org/3/library/functions.html#type)\n",
    "\n",
    "Consider the following two lines:"
   ]
  },
  {
   "cell_type": "code",
   "execution_count": 4,
   "metadata": {
    "colab": {
     "base_uri": "https://localhost:8080/",
     "height": 34
    },
    "colab_type": "code",
    "id": "1UeuHt6vPX_q",
    "outputId": "ca9a793d-8e04-4040-fba7-8eec768fa052"
   },
   "outputs": [
    {
     "output_type": "stream",
     "name": "stdout",
     "text": [
      "<class 'float'>\n"
     ]
    }
   ],
   "source": [
    "a = 1.0\n",
    "print(type(a))"
   ]
  },
  {
   "cell_type": "markdown",
   "metadata": {
    "colab_type": "text",
    "id": "n2hgIppIQoCq"
   },
   "source": [
    "In this case, the notebook interpreter has recognized at runtime that `1.0` is a floating number, and, as a consequence, the type of `a` is bind to `float`. The Python float is equivalent to a `double` of the C programming language and it has the same precision than the floating numbers in Matlab (i.e., 64 bits).\n",
    "\n",
    "Note that Python makes also dynamically type inference."
   ]
  },
  {
   "cell_type": "code",
   "execution_count": 5,
   "metadata": {
    "colab": {
     "base_uri": "https://localhost:8080/",
     "height": 34
    },
    "colab_type": "code",
    "id": "t5nl9r1NQkyx",
    "outputId": "e3c02d0b-ddb8-4eb0-c6e5-8a27041435ad"
   },
   "outputs": [
    {
     "output_type": "execute_result",
     "data": {
      "text/plain": [
       "float"
      ]
     },
     "metadata": {},
     "execution_count": 5
    }
   ],
   "source": [
    "a = 1.0\n",
    "b = 1\n",
    "c = b + a\n",
    "type(c)"
   ]
  },
  {
   "cell_type": "markdown",
   "metadata": {
    "colab_type": "text",
    "id": "7ddNSNMxDrPT"
   },
   "source": [
    "In Python, we have all the basic arithmetic operators:"
   ]
  },
  {
   "cell_type": "code",
   "execution_count": 6,
   "metadata": {
    "colab": {
     "base_uri": "https://localhost:8080/",
     "height": 34
    },
    "colab_type": "code",
    "id": "zQdDzD2HDof_",
    "outputId": "d29fb9a7-4492-4502-e5aa-9dd6419bc045"
   },
   "outputs": [
    {
     "output_type": "stream",
     "name": "stdout",
     "text": [
      "13\n"
     ]
    }
   ],
   "source": [
    "a = (3*4)+7//2*7%2\n",
    "print(a)"
   ]
  },
  {
   "cell_type": "markdown",
   "metadata": {
    "colab_type": "text",
    "id": "7WantTcvEPE0"
   },
   "source": [
    "Be careful about the `^` operator, which it is not what you likely expect."
   ]
  },
  {
   "cell_type": "code",
   "execution_count": 7,
   "metadata": {
    "colab": {
     "base_uri": "https://localhost:8080/",
     "height": 34
    },
    "colab_type": "code",
    "id": "NycYuQvyEHZW",
    "outputId": "6221bc7d-ca27-4094-d72c-de64d736d06e"
   },
   "outputs": [
    {
     "output_type": "execute_result",
     "data": {
      "text/plain": [
       "1"
      ]
     },
     "metadata": {},
     "execution_count": 7
    }
   ],
   "source": [
    "2^3"
   ]
  },
  {
   "cell_type": "markdown",
   "metadata": {
    "colab_type": "text",
    "id": "xcLpTCoGEfow"
   },
   "source": [
    "The `^` operator implements the bit-wise xor logical operator.\n",
    "What does the `//` operator do compared to `/`, and the operator `**` compared to `*`?"
   ]
  },
  {
   "cell_type": "code",
   "execution_count": null,
   "metadata": {},
   "outputs": [],
   "source": []
  },
  {
   "cell_type": "markdown",
   "metadata": {
    "colab_type": "text",
    "id": "KPweQsDhRh0t"
   },
   "source": [
    "### 1.1.2 Logical values\n",
    "The two logical values are denoted by the reserved keywords `True` and `False`, which are of type `bool`. The logical operators are written in plain English: `and`, `or`, `not`. For example:"
   ]
  },
  {
   "cell_type": "code",
   "execution_count": 8,
   "metadata": {
    "colab": {
     "base_uri": "https://localhost:8080/",
     "height": 34
    },
    "colab_type": "code",
    "id": "ypabIaxwQ9FB",
    "outputId": "e3b3d8dd-2992-45da-91d6-0a32eee0cb34"
   },
   "outputs": [
    {
     "output_type": "execute_result",
     "data": {
      "text/plain": [
       "False"
      ]
     },
     "metadata": {},
     "execution_count": 8
    }
   ],
   "source": [
    "a = True\n",
    "b = False\n",
    "a and b"
   ]
  },
  {
   "cell_type": "code",
   "execution_count": 9,
   "metadata": {
    "colab": {
     "base_uri": "https://localhost:8080/",
     "height": 34
    },
    "colab_type": "code",
    "id": "Kpt6eorYR39y",
    "outputId": "274c778c-8753-4387-995b-21bff83b4cd6"
   },
   "outputs": [
    {
     "output_type": "execute_result",
     "data": {
      "text/plain": [
       "True"
      ]
     },
     "metadata": {},
     "execution_count": 9
    }
   ],
   "source": [
    "a or not b"
   ]
  },
  {
   "cell_type": "code",
   "execution_count": 10,
   "metadata": {
    "colab": {
     "base_uri": "https://localhost:8080/",
     "height": 34
    },
    "colab_type": "code",
    "id": "2d5GQ9mbR6WA",
    "outputId": "cb51fd63-e57e-419b-ebaf-2b72182bfe1e"
   },
   "outputs": [
    {
     "output_type": "execute_result",
     "data": {
      "text/plain": [
       "False"
      ]
     },
     "metadata": {},
     "execution_count": 10
    }
   ],
   "source": [
    "not a or b"
   ]
  },
  {
   "cell_type": "code",
   "execution_count": 11,
   "metadata": {
    "colab": {
     "base_uri": "https://localhost:8080/",
     "height": 34
    },
    "colab_type": "code",
    "id": "W7UXEtrZE0K1",
    "outputId": "1b123792-a6bf-4fcc-88b9-9ba57a9b7ec5"
   },
   "outputs": [
    {
     "output_type": "execute_result",
     "data": {
      "text/plain": [
       "bool"
      ]
     },
     "metadata": {},
     "execution_count": 11
    }
   ],
   "source": [
    "type(a)"
   ]
  },
  {
   "cell_type": "markdown",
   "metadata": {
    "colab_type": "text",
    "id": "iATDizvRSewF"
   },
   "source": [
    "Note that we have reused *on the fly* the variable named `a` several times, dynamically changing its type more than once. You could not do that with C or Java, which contrary to Python are *statically typed* programming language. Types prevent bugs, hence be careful in Python! It is possible to use [*variable type annotations*](https://docs.python.org/3/library/typing.html) to provide *type hints* that can be used to check that types remain static using checkers like [mypy](http://mypy-lang.org/) or IDEs.   "
   ]
  },
  {
   "cell_type": "markdown",
   "metadata": {
    "colab_type": "text",
    "id": "IA9eXA0DFC_B"
   },
   "source": [
    "### 1.1.3 Strings\n",
    "Another very useful data type is **string**, which is nothing else that an ordered sequence of characters.\n",
    "\n",
    "Example:"
   ]
  },
  {
   "cell_type": "code",
   "execution_count": 12,
   "metadata": {
    "colab": {},
    "colab_type": "code",
    "id": "towDdZoLR9Wn"
   },
   "outputs": [],
   "source": [
    "a = \"COVID-19\""
   ]
  },
  {
   "cell_type": "code",
   "execution_count": 13,
   "metadata": {
    "colab": {
     "base_uri": "https://localhost:8080/",
     "height": 34
    },
    "colab_type": "code",
    "id": "pvAEX1_aS473",
    "outputId": "8478645d-2f82-43dc-c12c-d8985ca0b538"
   },
   "outputs": [
    {
     "output_type": "stream",
     "name": "stdout",
     "text": [
      "COVID-19\n"
     ]
    }
   ],
   "source": [
    "print(a)"
   ]
  },
  {
   "cell_type": "code",
   "execution_count": 14,
   "metadata": {
    "colab": {
     "base_uri": "https://localhost:8080/",
     "height": 34
    },
    "colab_type": "code",
    "id": "dmCrkVJtS6B-",
    "outputId": "9feabef6-9327-456a-aef0-3a1c09626aff"
   },
   "outputs": [
    {
     "output_type": "execute_result",
     "data": {
      "text/plain": [
       "'COVID-19'"
      ]
     },
     "metadata": {},
     "execution_count": 14
    }
   ],
   "source": [
    "a"
   ]
  },
  {
   "cell_type": "code",
   "execution_count": 15,
   "metadata": {
    "colab": {
     "base_uri": "https://localhost:8080/",
     "height": 34
    },
    "colab_type": "code",
    "id": "-N2r5Bd1S6mg",
    "outputId": "73c68fc5-677c-4067-c1a2-954f8a056779"
   },
   "outputs": [
    {
     "output_type": "execute_result",
     "data": {
      "text/plain": [
       "str"
      ]
     },
     "metadata": {},
     "execution_count": 15
    }
   ],
   "source": [
    "type(a)"
   ]
  },
  {
   "cell_type": "markdown",
   "metadata": {
    "colab_type": "text",
    "id": "CVaiDGOxS-yp"
   },
   "source": [
    "The type of a string is denoted by `str`. \n",
    "\n",
    "The Python string have several useful builtin functions, as for instances: "
   ]
  },
  {
   "cell_type": "code",
   "execution_count": 16,
   "metadata": {
    "colab": {
     "base_uri": "https://localhost:8080/",
     "height": 34
    },
    "colab_type": "code",
    "id": "P_lovXEES9Ef",
    "outputId": "51a1e3d8-eb3a-43c7-9322-bb6f4b3c05fc"
   },
   "outputs": [
    {
     "output_type": "stream",
     "name": "stdout",
     "text": [
      "covid-19 ['COVID', '19']\n"
     ]
    }
   ],
   "source": [
    "print(a.lower(), a.split('-'))"
   ]
  },
  {
   "cell_type": "markdown",
   "metadata": {
    "colab_type": "text",
    "id": "2xSSEsN3Tslz"
   },
   "source": [
    "First we have converted a string into lower case with `lower()` function, and then we have split the string using as delimiter the string `-`."
   ]
  },
  {
   "cell_type": "markdown",
   "metadata": {
    "colab_type": "text",
    "id": "rdgW0SHxVF8q"
   },
   "source": [
    "## 1.2 Data Structures\n",
    "Python has three powerful builtin data-types to store aggregate data (click on each word to get the online documentation):\n",
    "\n",
    "1. [`tuple`](https://docs.python.org/3/library/functions.html#func-tuple)\n",
    "2. [`list`](https://docs.python.org/3/library/functions.html#func-list)\n",
    "3. [`dictionary`](https://docs.python.org/3/library/functions.html#func-dict)\n",
    "\n",
    "Let's see these three data types in action."
   ]
  },
  {
   "cell_type": "markdown",
   "metadata": {
    "colab_type": "text",
    "id": "lxYPIVuRdH_2"
   },
   "source": [
    "### 1.2.1 Tuple\n",
    "A **tuple** is an ordered sequence of elements. Each element can be of a different type."
   ]
  },
  {
   "cell_type": "code",
   "execution_count": 17,
   "metadata": {
    "colab": {
     "base_uri": "https://localhost:8080/",
     "height": 34
    },
    "colab_type": "code",
    "id": "H8Wy8-cYTTra",
    "outputId": "f45bfab9-e992-4e04-b93f-63f036b5419b"
   },
   "outputs": [
    {
     "output_type": "stream",
     "name": "stdout",
     "text": [
      "(1, 2) <class 'tuple'>\n"
     ]
    }
   ],
   "source": [
    "a = 1, 2 \n",
    "print(a, type(a))"
   ]
  },
  {
   "cell_type": "markdown",
   "metadata": {
    "colab_type": "text",
    "id": "ZmThqeXEVuh4"
   },
   "source": [
    "Above, we have a tuple of two elements (i.e., a **pair**). \n",
    "\n",
    "We can use an *unfolding* operation to access the elements of a tuple:"
   ]
  },
  {
   "cell_type": "code",
   "execution_count": 18,
   "metadata": {
    "colab": {
     "base_uri": "https://localhost:8080/",
     "height": 34
    },
    "colab_type": "code",
    "id": "wcYPF7eMVrLD",
    "outputId": "00c6f492-1420-43d4-9e2a-43c2692b7844"
   },
   "outputs": [
    {
     "output_type": "stream",
     "name": "stdout",
     "text": [
      "1 2\n"
     ]
    }
   ],
   "source": [
    "b, c = a\n",
    "print(b, c)"
   ]
  },
  {
   "cell_type": "markdown",
   "metadata": {
    "colab_type": "text",
    "id": "ojUj_yhaWOkc"
   },
   "source": [
    "We can use the *indexing* operator to access a single element of a tuple (with indices starting from 0, and not from 1):"
   ]
  },
  {
   "cell_type": "code",
   "execution_count": 19,
   "metadata": {
    "colab": {
     "base_uri": "https://localhost:8080/",
     "height": 34
    },
    "colab_type": "code",
    "id": "u6E6LGVoWTSz",
    "outputId": "d1135a04-43ac-45bb-92cd-f595ca7d3390"
   },
   "outputs": [
    {
     "output_type": "stream",
     "name": "stdout",
     "text": [
      "1 2\n"
     ]
    }
   ],
   "source": [
    "print(a[0], a[1])"
   ]
  },
  {
   "cell_type": "markdown",
   "metadata": {
    "colab_type": "text",
    "id": "Wv4M52eeXEqu"
   },
   "source": [
    "A tuple is usually defined using round parentheses and can have arbitrary length.\n",
    "\n",
    "\n"
   ]
  },
  {
   "cell_type": "code",
   "execution_count": 20,
   "metadata": {
    "colab": {
     "base_uri": "https://localhost:8080/",
     "height": 52
    },
    "colab_type": "code",
    "id": "W6miPQDTXRWI",
    "outputId": "f001c955-b703-435e-d1a0-867e2d8d5cfc"
   },
   "outputs": [
    {
     "output_type": "stream",
     "name": "stdout",
     "text": [
      "tupla: ('contrario', 3, 2.0, 1, 0, -1) lunghezza: 6\ntipi: <class 'tuple'> <class 'str'> <class 'int'> <class 'float'>\n"
     ]
    }
   ],
   "source": [
    "eg_tuple = (\"contrario\", 3, 2.0, 1, 0, -1)\n",
    "print(\"tupla:\", eg_tuple, \"lunghezza:\", len(eg_tuple))\n",
    "print(\"tipi:\", type(eg_tuple), type(eg_tuple[0]), type(eg_tuple[1]), type(eg_tuple[2]))"
   ]
  },
  {
   "cell_type": "markdown",
   "metadata": {
    "colab_type": "text",
    "id": "bvg4AMXJWfkr"
   },
   "source": [
    "Note however that tuple are **reading-only** (aka **immutable**) data types, that is we cannot modify an element of a tuple:"
   ]
  },
  {
   "cell_type": "code",
   "execution_count": 21,
   "metadata": {
    "colab": {
     "base_uri": "https://localhost:8080/",
     "height": 165
    },
    "colab_type": "code",
    "id": "Cg35rEEPWe9-",
    "outputId": "42057b3a-bd47-4c12-9bd8-342e92793ede"
   },
   "outputs": [
    {
     "output_type": "error",
     "ename": "TypeError",
     "evalue": "'tuple' object does not support item assignment",
     "traceback": [
      "\u001b[0;31m---------------------------------------------------------------------------\u001b[0m",
      "\u001b[0;31mTypeError\u001b[0m                                 Traceback (most recent call last)",
      "\u001b[0;32m<ipython-input-21-c04b8b3bfbb3>\u001b[0m in \u001b[0;36m<module>\u001b[0;34m\u001b[0m\n\u001b[0;32m----> 1\u001b[0;31m \u001b[0ma\u001b[0m\u001b[0;34m[\u001b[0m\u001b[0;36m1\u001b[0m\u001b[0;34m]\u001b[0m \u001b[0;34m=\u001b[0m \u001b[0;36m4\u001b[0m\u001b[0;34m\u001b[0m\u001b[0;34m\u001b[0m\u001b[0m\n\u001b[0m",
      "\u001b[0;31mTypeError\u001b[0m: 'tuple' object does not support item assignment"
     ]
    }
   ],
   "source": [
    "a[1] = 4"
   ]
  },
  {
   "cell_type": "markdown",
   "metadata": {
    "colab_type": "text",
    "id": "ihzovuXLbfM0"
   },
   "source": [
    "If you need to store a **mutable** ordered sequence of data, you can use a `list` instead of a `tuple`, as we show next."
   ]
  },
  {
   "cell_type": "markdown",
   "metadata": {
    "colab_type": "text",
    "id": "r7Dcpw_cb8dD"
   },
   "source": [
    "### 1.2.2 List\n",
    "A list is mutable ordered sequence of data. It can be used in place of tuples, but with the possibility of adding new elements to the list or to change the value of a single element. "
   ]
  },
  {
   "cell_type": "code",
   "execution_count": 22,
   "metadata": {
    "colab": {},
    "colab_type": "code",
    "id": "pvvL4byLb7qk"
   },
   "outputs": [],
   "source": [
    "Ls = [1, 2, 2.5, 2.75, 3, \"Star!\"]"
   ]
  },
  {
   "cell_type": "code",
   "execution_count": 23,
   "metadata": {
    "colab": {
     "base_uri": "https://localhost:8080/",
     "height": 34
    },
    "colab_type": "code",
    "id": "lDYI_ZU8aP7t",
    "outputId": "ba94f727-2de3-4356-ffb9-eb9b21e8bd6d"
   },
   "outputs": [
    {
     "output_type": "stream",
     "name": "stdout",
     "text": [
      "[1, 2, 2.5, 2.75, 3, 'Star!']\n"
     ]
    }
   ],
   "source": [
    "print(Ls)"
   ]
  },
  {
   "cell_type": "code",
   "execution_count": 24,
   "metadata": {
    "colab": {
     "base_uri": "https://localhost:8080/",
     "height": 34
    },
    "colab_type": "code",
    "id": "aVhz8LXzcnyZ",
    "outputId": "df69f4ed-b47f-4133-86f3-981274ba3a08"
   },
   "outputs": [
    {
     "output_type": "stream",
     "name": "stdout",
     "text": [
      "2.5 Star!\n"
     ]
    }
   ],
   "source": [
    "print(Ls[2], Ls[-1])\n",
    "# the negative indices start from the last position"
   ]
  },
  {
   "cell_type": "code",
   "execution_count": 25,
   "metadata": {
    "colab": {
     "base_uri": "https://localhost:8080/",
     "height": 34
    },
    "colab_type": "code",
    "id": "qEH9IPV7crcZ",
    "outputId": "49d25f54-4024-4b93-ce37-c209e1eecabf"
   },
   "outputs": [
    {
     "output_type": "stream",
     "name": "stdout",
     "text": [
      "[1, 2, 2.5, 2.75, 2.99, 'Star!']\n"
     ]
    }
   ],
   "source": [
    "Ls[4] = 2.99\n",
    "print(Ls)"
   ]
  },
  {
   "cell_type": "code",
   "execution_count": 26,
   "metadata": {
    "colab": {},
    "colab_type": "code",
    "id": "I00c5gv6c5cp"
   },
   "outputs": [],
   "source": [
    "Ls.append('!!!')"
   ]
  },
  {
   "cell_type": "code",
   "execution_count": 27,
   "metadata": {
    "colab": {
     "base_uri": "https://localhost:8080/",
     "height": 34
    },
    "colab_type": "code",
    "id": "tAglM-fWc-k4",
    "outputId": "36c85bb0-c88e-482e-f5ce-36937bc5eb99"
   },
   "outputs": [
    {
     "output_type": "execute_result",
     "data": {
      "text/plain": [
       "[1, 2, 2.5, 2.75, 2.99, 'Star!', '!!!']"
      ]
     },
     "metadata": {},
     "execution_count": 27
    }
   ],
   "source": [
    "Ls"
   ]
  },
  {
   "cell_type": "code",
   "execution_count": 28,
   "metadata": {
    "colab": {
     "base_uri": "https://localhost:8080/",
     "height": 34
    },
    "colab_type": "code",
    "id": "6P1OZp88c-6u",
    "outputId": "0805820a-3d29-4ff3-ad5c-6c63a7e555f5"
   },
   "outputs": [
    {
     "output_type": "stream",
     "name": "stdout",
     "text": [
      "7\n"
     ]
    }
   ],
   "source": [
    "# To get the length of a list:\n",
    "print(len(Ls))"
   ]
  },
  {
   "cell_type": "markdown",
   "metadata": {
    "colab_type": "text",
    "id": "bQhHh7WtfOOb"
   },
   "source": [
    "We can sum up two lists:"
   ]
  },
  {
   "cell_type": "code",
   "execution_count": 29,
   "metadata": {
    "colab": {
     "base_uri": "https://localhost:8080/",
     "height": 34
    },
    "colab_type": "code",
    "id": "YvBpUsZhfVLY",
    "outputId": "7e253c00-025a-4a2c-b7d4-38c572be845d"
   },
   "outputs": [
    {
     "output_type": "stream",
     "name": "stdout",
     "text": [
      "[1, 2, 3, 4, 5, 6]\n"
     ]
    }
   ],
   "source": [
    "As = [1,2,3]\n",
    "Bs = [4,5,6]\n",
    "Cs = As + Bs\n",
    "print(Cs)"
   ]
  },
  {
   "cell_type": "code",
   "execution_count": 30,
   "metadata": {
    "colab": {
     "base_uri": "https://localhost:8080/",
     "height": 34
    },
    "colab_type": "code",
    "id": "J1_juqlJfLnK",
    "outputId": "1b42a217-69a6-4a87-9181-c7fbe81786db"
   },
   "outputs": [
    {
     "output_type": "stream",
     "name": "stdout",
     "text": [
      "[1, 2, 3, 1, 2, 3]\n"
     ]
    }
   ],
   "source": [
    "Ds = As + As\n",
    "print(Ds)"
   ]
  },
  {
   "cell_type": "markdown",
   "metadata": {
    "colab_type": "text",
    "id": "HsRBAodmBN40"
   },
   "source": [
    "Note that the `addition` operator is implemented as a function that returns a new list containing in order, first, every element of the first list and, later, all those of the second list (concatenation)."
   ]
  },
  {
   "cell_type": "markdown",
   "metadata": {
    "colab_type": "text",
    "id": "EWFjHfGWfo4H"
   },
   "source": [
    "Using the `remove` function, we can remove from a list the first occurrence of an element."
   ]
  },
  {
   "cell_type": "code",
   "execution_count": 31,
   "metadata": {
    "colab": {
     "base_uri": "https://localhost:8080/",
     "height": 34
    },
    "colab_type": "code",
    "id": "seN0FkZYfkRz",
    "outputId": "8f156230-f3ea-43c4-99f7-3ac4a2eb43ff"
   },
   "outputs": [
    {
     "output_type": "stream",
     "name": "stdout",
     "text": [
      "[1, 2, 1, 2, 3]\n"
     ]
    }
   ],
   "source": [
    "Ds.remove(3)\n",
    "print(Ds)"
   ]
  },
  {
   "cell_type": "markdown",
   "metadata": {
    "colab_type": "text",
    "id": "htVR2JqiBntZ"
   },
   "source": [
    "Since *lists* are ordered sequences of data, we can **index** every single element, and we can **slice** a subset of the elements using the slicing operator, which has the following syntax:\n",
    "\n",
    "```\n",
    "Ls[startIndex:endIndex]\n",
    "```\n",
    "\n",
    "and is used as follows:"
   ]
  },
  {
   "cell_type": "code",
   "execution_count": 32,
   "metadata": {
    "colab": {
     "base_uri": "https://localhost:8080/",
     "height": 34
    },
    "colab_type": "code",
    "id": "xI1HLwmBf81s",
    "outputId": "7ae46e83-0694-4d94-ec42-ab97bcc38390"
   },
   "outputs": [
    {
     "output_type": "stream",
     "name": "stdout",
     "text": [
      "[5, 4, 3]\n"
     ]
    }
   ],
   "source": [
    "Ls = [9,8,7,6,5,4,3,2,1]\n",
    "print(Ls[4:7])"
   ]
  },
  {
   "cell_type": "markdown",
   "metadata": {
    "colab_type": "text",
    "id": "o9-LI-efCK9G"
   },
   "source": [
    "The command has printed the elements from position 4 (indexing start from position 0) to position 6 (just before 7).\n",
    "The slicing operator has default values equal to `startIndex=0` and `endIndex=<listLength> - 1`."
   ]
  },
  {
   "cell_type": "code",
   "execution_count": 33,
   "metadata": {
    "colab": {
     "base_uri": "https://localhost:8080/",
     "height": 68
    },
    "colab_type": "code",
    "id": "WBN6bD_qCJIQ",
    "outputId": "cb8bbe10-21b1-4903-a55a-4d23f3f3c9b5"
   },
   "outputs": [
    {
     "output_type": "stream",
     "name": "stdout",
     "text": [
      "[9, 8, 7, 6]\n[5, 4, 3, 2, 1]\n[9, 8, 7, 6, 5, 4, 3, 2, 1]\n"
     ]
    }
   ],
   "source": [
    "print(Ls[:4])  # startIndex is omitted hence is equal to 0\n",
    "print(Ls[4:])  # endIndex is omitted hence is equal to len(Ls)-1\n",
    "print(Ls[:])"
   ]
  },
  {
   "cell_type": "markdown",
   "metadata": {
    "colab_type": "text",
    "id": "ZMolp1cFDLc9"
   },
   "source": [
    "Lists are ordered sequence of data with no restrictions on the type that each single element can take. The type of each element is determined at runtime by the Python interpreter."
   ]
  },
  {
   "cell_type": "code",
   "execution_count": 34,
   "metadata": {
    "colab": {},
    "colab_type": "code",
    "id": "9v3t_Q06C_OU"
   },
   "outputs": [],
   "source": [
    "Ls = [1, 2.0, [1,\"tre\"]]"
   ]
  },
  {
   "cell_type": "markdown",
   "metadata": {
    "colab_type": "text",
    "id": "Mkg7s6Y0DbeE"
   },
   "source": [
    "In this case, we have a list of three elements: an integer, a float, and a list of two elements (an integer and a string)."
   ]
  },
  {
   "cell_type": "markdown",
   "metadata": {
    "colab_type": "text",
    "id": "AChpRRBVDo9w"
   },
   "source": [
    "By using lists, we can represent a matrix $A\\in \\mathbb{R}^{m\\times n}$ as a list of lists of numbers."
   ]
  },
  {
   "cell_type": "code",
   "execution_count": 35,
   "metadata": {
    "colab": {},
    "colab_type": "code",
    "id": "NxK9dQzhDawG"
   },
   "outputs": [],
   "source": [
    "I = [[1,0,0,0], [0,1,0,0],[0,0,1,0],[0,0,0,1]]   # Identity matrix"
   ]
  },
  {
   "cell_type": "code",
   "execution_count": 36,
   "metadata": {
    "colab": {
     "base_uri": "https://localhost:8080/",
     "height": 34
    },
    "colab_type": "code",
    "id": "CbWI_5qiD-La",
    "outputId": "a807afbd-c14c-4323-f959-e23faf2621cc"
   },
   "outputs": [
    {
     "output_type": "stream",
     "name": "stdout",
     "text": [
      "[[1, 0, 0, 0], [0, 1, 0, 0], [0, 0, 1, 0], [0, 0, 0, 1]]\n"
     ]
    }
   ],
   "source": [
    "print(I)"
   ]
  },
  {
   "cell_type": "code",
   "execution_count": 37,
   "metadata": {
    "colab": {
     "base_uri": "https://localhost:8080/",
     "height": 34
    },
    "colab_type": "code",
    "id": "g-EwIK_dD_Ca",
    "outputId": "1d1b82af-7a5e-4039-f9ce-dbffc9f37102"
   },
   "outputs": [
    {
     "output_type": "execute_result",
     "data": {
      "text/plain": [
       "list"
      ]
     },
     "metadata": {},
     "execution_count": 37
    }
   ],
   "source": [
    "type(I)"
   ]
  },
  {
   "cell_type": "code",
   "execution_count": 38,
   "metadata": {
    "colab": {
     "base_uri": "https://localhost:8080/",
     "height": 34
    },
    "colab_type": "code",
    "id": "w_5vbzArEGfv",
    "outputId": "43076994-a847-4e22-e533-4b1c3294cae6"
   },
   "outputs": [
    {
     "output_type": "execute_result",
     "data": {
      "text/plain": [
       "list"
      ]
     },
     "metadata": {},
     "execution_count": 38
    }
   ],
   "source": [
    "type(I[3])"
   ]
  },
  {
   "cell_type": "markdown",
   "metadata": {
    "colab_type": "text",
    "id": "h03PY3GiEJbX"
   },
   "source": [
    "This way of representing lists has nothing to do with the approach used by Matlab or R to store matrices. \n",
    "Experiment adding a scalar to a list or multiplying a list by a scalar. What is the result? Is it the same you would have expected from linear algebra?"
   ]
  },
  {
   "cell_type": "code",
   "execution_count": null,
   "metadata": {},
   "outputs": [],
   "source": []
  },
  {
   "cell_type": "markdown",
   "metadata": {},
   "source": [
    "We will see later in this course a different method based on the [numpy](https://numpy.org/) library for storing vectors and matrices."
   ]
  },
  {
   "cell_type": "markdown",
   "metadata": {
    "colab_type": "text",
    "id": "C-gsZcjlE9dy"
   },
   "source": [
    "### 1.2.3 Dictionaries\n",
    "The `dictionary` data type is one of the features which has contributed the most to the success of Python.\n",
    "\n",
    "Dictionaries are unordered sequences of pairs of data, where the first element of each pair is called the `key` and the second element is called the `value`. Conceptually, dictionaries are the equivalent of text dictionary: we use the key (a word) to quickly look for the corresponding value (the formal definition of the key/word).\n",
    "\n",
    "An intuitive way to think of a dictionary is that of a *kind-of-list* that can be indexed by any read-only (immutable) data type (e.g., `int, float, tuple, string`)."
   ]
  },
  {
   "cell_type": "code",
   "execution_count": 39,
   "metadata": {
    "colab": {
     "base_uri": "https://localhost:8080/",
     "height": 34
    },
    "colab_type": "code",
    "id": "Mw-hO1ZWEHvg",
    "outputId": "0d14b576-b4ba-47dd-b436-3e47da7457fe"
   },
   "outputs": [
    {
     "output_type": "stream",
     "name": "stdout",
     "text": [
      "{} <class 'dict'>\n"
     ]
    }
   ],
   "source": [
    "Ds = dict()  # Create en empty dictionary\n",
    "print(Ds, type(Ds))"
   ]
  },
  {
   "cell_type": "code",
   "execution_count": 40,
   "metadata": {
    "colab": {
     "base_uri": "https://localhost:8080/",
     "height": 34
    },
    "colab_type": "code",
    "id": "de_pDTWcGHDF",
    "outputId": "3ff0f0b7-6889-4b58-fdf8-e90067ef1eee"
   },
   "outputs": [
    {
     "output_type": "stream",
     "name": "stdout",
     "text": [
      "{'star': 'stella', 'war': 'guerra'}\n"
     ]
    }
   ],
   "source": [
    "Ds[\"star\"] = \"stella\"\n",
    "Ds[\"war\"] = \"guerra\"\n",
    "print(Ds)"
   ]
  },
  {
   "cell_type": "code",
   "execution_count": 41,
   "metadata": {
    "colab": {
     "base_uri": "https://localhost:8080/",
     "height": 34
    },
    "colab_type": "code",
    "id": "egYYci4PGZeT",
    "outputId": "77c0ba0c-7a0c-4f4e-d694-9b40b8165c88"
   },
   "outputs": [
    {
     "output_type": "stream",
     "name": "stdout",
     "text": [
      "{'star': 'stella', 'war': 'guerra', 'luke': 'luca'}\n"
     ]
    }
   ],
   "source": [
    "Ds[\"luke\"] = \"luca\"\n",
    "print(Ds)"
   ]
  },
  {
   "cell_type": "markdown",
   "metadata": {
    "colab_type": "text",
    "id": "n2YZhiRKG1gX"
   },
   "source": [
    "Notice that we have something very similar to a list of pairs."
   ]
  },
  {
   "cell_type": "code",
   "execution_count": 42,
   "metadata": {
    "colab": {
     "base_uri": "https://localhost:8080/",
     "height": 34
    },
    "colab_type": "code",
    "id": "4vIVjjkIGh-y",
    "outputId": "e612be96-0b37-4bb6-9fb5-7e979daa1891"
   },
   "outputs": [
    {
     "output_type": "stream",
     "name": "stdout",
     "text": [
      "luca\n"
     ]
    }
   ],
   "source": [
    "print(Ds[\"luke\"])"
   ]
  },
  {
   "cell_type": "code",
   "execution_count": 43,
   "metadata": {
    "colab": {
     "base_uri": "https://localhost:8080/",
     "height": 34
    },
    "colab_type": "code",
    "id": "Cr9MD0DxGna5",
    "outputId": "bac34a72-29e4-452a-fbfc-a4ea712a2f03"
   },
   "outputs": [
    {
     "output_type": "stream",
     "name": "stdout",
     "text": [
      "3\n"
     ]
    }
   ],
   "source": [
    "print(len(Ds))  # Number of pairs (key, value) contained into the dictionary"
   ]
  },
  {
   "cell_type": "markdown",
   "metadata": {
    "colab_type": "text",
    "id": "COq0VMvyHMPu"
   },
   "source": [
    "Sometime it might be useful to build a dictionary starting from two different lists (but which have the same length). The first is the list of *keys*, the second is the list of *value*. Look at the following snippets:\n"
   ]
  },
  {
   "cell_type": "code",
   "execution_count": 44,
   "metadata": {
    "colab": {
     "base_uri": "https://localhost:8080/",
     "height": 34
    },
    "colab_type": "code",
    "id": "NAxmL0fzGtRU",
    "outputId": "d0262833-7c90-4a91-86d1-c7ee6e58c6f2"
   },
   "outputs": [
    {
     "output_type": "stream",
     "name": "stdout",
     "text": [
      "{'a': 1, 'b': 2, 'c': 3, 'd': 4}\n"
     ]
    }
   ],
   "source": [
    "As = [\"a\", \"b\", \"c\", \"d\"]\n",
    "Bs = [1, 2, 3, 4]\n",
    "Ds = dict(zip(As, Bs))\n",
    "print(Ds)"
   ]
  },
  {
   "cell_type": "markdown",
   "metadata": {
    "colab_type": "text",
    "id": "CEUaf2zNHiKt"
   },
   "source": [
    "In this example, we have used the builtin function [zip](https://docs.python.org/3/library/functions.html#zip). If it is unclear how the function **zip** works, try to understand it by inspection running the following line"
   ]
  },
  {
   "cell_type": "code",
   "execution_count": 45,
   "metadata": {
    "colab": {
     "base_uri": "https://localhost:8080/",
     "height": 34
    },
    "colab_type": "code",
    "id": "1fbiWcX8HI-8",
    "outputId": "205d5a54-8dda-4183-94db-86c5d8f0326a"
   },
   "outputs": [
    {
     "output_type": "stream",
     "name": "stdout",
     "text": [
      "[('a', 1), ('b', 2), ('c', 3), ('d', 4)]\n"
     ]
    }
   ],
   "source": [
    "Ps = list(zip(As, Bs))\n",
    "print(Ps)"
   ]
  },
  {
   "cell_type": "markdown",
   "metadata": {
    "colab_type": "text",
    "id": "CgCRQwS7Im73"
   },
   "source": [
    "With the function zip, we have constructed a list of pairs, by *zipping* the elements of the two lists in consecutive pairs."
   ]
  },
  {
   "cell_type": "markdown",
   "metadata": {
    "colab_type": "text",
    "id": "R4rsmaAiKCzh"
   },
   "source": [
    "## 1.3 Flow Controls\n",
    "In the previous cells, we have used only small blocks of code with the purpose of showing basic data structures. When writing a simple function or a larger program it is necessary to write statements that control the flow of execution. We review here the syntax for the flow control execution available in Python."
   ]
  },
  {
   "cell_type": "markdown",
   "metadata": {
    "colab_type": "text",
    "id": "Cud_ZossKrmp"
   },
   "source": [
    "### 1.3.1 Conditionals\n",
    "The first flow control statement is the `if ... then ... else` construct, which has the following syntax:\n",
    "\n",
    "```\n",
    "if <logical condition>:\n",
    "  # Either the first block of code, e.g.:\n",
    "  print('True')\n",
    "else:\n",
    "  # Or execute the second block of code, e.g.:\n",
    "  print('False')\n",
    "```\n",
    "The logical condition can be any logical operation (e.g., $a > 3$) or a function return a logical value. The `else` condition is optional and it can be omitted.\n",
    "\n",
    "For instance, if we have to check whether a number is even, we can write:"
   ]
  },
  {
   "cell_type": "code",
   "execution_count": 46,
   "metadata": {
    "colab": {
     "base_uri": "https://localhost:8080/",
     "height": 34
    },
    "colab_type": "code",
    "id": "DP6iAeYFPgwH",
    "outputId": "538e41a7-8f61-4a75-b375-d9589bb7706f"
   },
   "outputs": [
    {
     "output_type": "stream",
     "name": "stdout",
     "text": [
      "Number a=14 is EVEN\n"
     ]
    }
   ],
   "source": [
    "a = 14\n",
    "if a % 2 == 0:\n",
    "  print(\"Number a={} is EVEN\".format(a))\n",
    "else:\n",
    "  print(\"Number a={} is ODD\".format(a))\n"
   ]
  },
  {
   "cell_type": "markdown",
   "metadata": {
    "colab_type": "text",
    "id": "RdSV63nVQHgs"
   },
   "source": [
    "Note: from Python 3.8 instead of `format` you can use *Formatted string literals* to format the output.\n",
    "```python\n",
    "value=3.14159\n",
    "print(f\"Number a={value:{7}.{2}} is a {type(value)}\")\n",
    "```"
   ]
  },
  {
   "source": [
    "If we need to control several alternatives, we can use one (or more) `elif` conditions."
   ],
   "cell_type": "markdown",
   "metadata": {}
  },
  {
   "cell_type": "code",
   "execution_count": 47,
   "metadata": {
    "colab": {
     "base_uri": "https://localhost:8080/",
     "height": 34
    },
    "colab_type": "code",
    "id": "MeGMshF_QQtF",
    "outputId": "b8fce7b5-f1e1-48f7-f6c9-bda00ea2e903"
   },
   "outputs": [
    {
     "output_type": "stream",
     "name": "stdout",
     "text": [
      "positive\n"
     ]
    }
   ],
   "source": [
    "if a > 0:\n",
    "  print(\"positive\")\n",
    "elif a < 0:\n",
    "  print(\"negative\")\n",
    "else:\n",
    "  print(\"zero\")"
   ]
  },
  {
   "cell_type": "markdown",
   "metadata": {
    "colab_type": "text",
    "id": "6qZhPwb3KuQZ"
   },
   "source": [
    "### 1.3.2 For Loops\n",
    "Given a sequence of elements, such as tuples, lists, and dictionaries, we often need to iterate over an element at the time.\n",
    "\n",
    "The Python syntax for looping trough the elements of a list is\n",
    "\n",
    "```\n",
    "for <variable name> in <sequence>:\n",
    "  # Block of code, e.g.\n",
    "  print(\"single loop\")\n",
    "```\n",
    "\n",
    "The simplest task we can think of is to print an element at the time the elements of a given list."
   ]
  },
  {
   "cell_type": "code",
   "execution_count": 48,
   "metadata": {
    "colab": {
     "base_uri": "https://localhost:8080/",
     "height": 120
    },
    "colab_type": "code",
    "id": "fSw0Wij1Rfh-",
    "outputId": "f1c7a1f5-e0c3-4492-bb6b-826454a5eb37"
   },
   "outputs": [
    {
     "output_type": "stream",
     "name": "stdout",
     "text": [
      "<class 'int'>    1\n<class 'float'>    2.0\n<class 'str'>    tre\n<class 'tuple'>    (1, 2)\n<class 'list'>    ['a,b']\n<class 'dict'>    {'x': 1, 'y': 1}\n"
     ]
    }
   ],
   "source": [
    "Ls = [1, 2.0, \"tre\", (1,2), [\"a,b\"], {\"x\": 1, \"y\":1}]\n",
    "for e in Ls:\n",
    "  print(type(e), \"  \", e)"
   ]
  },
  {
   "cell_type": "markdown",
   "metadata": {
    "colab_type": "text",
    "id": "eW-S4laVQHdR"
   },
   "source": [
    "We can loop over any data which represent a sequence, as shown next."
   ]
  },
  {
   "cell_type": "code",
   "execution_count": 49,
   "metadata": {
    "colab": {
     "base_uri": "https://localhost:8080/",
     "height": 68
    },
    "colab_type": "code",
    "id": "-QfjX4hXS_b9",
    "outputId": "03ef4480-7ecf-450e-f8bd-ddc4708f4750"
   },
   "outputs": [
    {
     "output_type": "stream",
     "name": "stdout",
     "text": [
      "a\nb\nc\n"
     ]
    }
   ],
   "source": [
    "Ts = (\"a\",\"b\",\"c\")\n",
    "for t in Ts:\n",
    "  print(t)"
   ]
  },
  {
   "cell_type": "code",
   "execution_count": 50,
   "metadata": {
    "colab": {
     "base_uri": "https://localhost:8080/",
     "height": 155
    },
    "colab_type": "code",
    "id": "MGMDDze7TGLC",
    "outputId": "ed56818e-9ce0-4394-ad16-88037695b45b"
   },
   "outputs": [
    {
     "output_type": "stream",
     "name": "stdout",
     "text": [
      "C\nO\nV\nI\nD\n-\n1\n9\n"
     ]
    }
   ],
   "source": [
    "virus = \"COVID-19\"\n",
    "for c in virus:\n",
    "  print(c)"
   ]
  },
  {
   "cell_type": "code",
   "execution_count": 51,
   "metadata": {
    "colab": {
     "base_uri": "https://localhost:8080/",
     "height": 103
    },
    "colab_type": "code",
    "id": "Be6UghxuTMiC",
    "outputId": "8653fdaa-df30-4fde-9547-663b969fd2ff"
   },
   "outputs": [
    {
     "output_type": "stream",
     "name": "stdout",
     "text": [
      "{'a': 1, 'b': 2, 'c': 3, 'd': 4}\nkey = a, value = 1\nkey = b, value = 2\nkey = c, value = 3\nkey = d, value = 4\n"
     ]
    }
   ],
   "source": [
    "print(Ds)\n",
    "for key in Ds:\n",
    "  print(\"key = {}, value = {}\".format(key, Ds[key]))"
   ]
  },
  {
   "cell_type": "markdown",
   "metadata": {
    "colab_type": "text",
    "id": "yAgxgJwNThxN"
   },
   "source": [
    "There are a few cases where it can be useful to know the index of a given element within an ordered sequence. In this case, we can use the [`enumerate`](https://docs.python.org/3/library/functions.html#enumerate) builtin function as follows."
   ]
  },
  {
   "cell_type": "code",
   "execution_count": 52,
   "metadata": {
    "colab": {
     "base_uri": "https://localhost:8080/",
     "height": 120
    },
    "colab_type": "code",
    "id": "xQ-l8FNOUEUl",
    "outputId": "fca19b3a-3c11-4c8e-dd5e-fb4badf35967"
   },
   "outputs": [
    {
     "output_type": "stream",
     "name": "stdout",
     "text": [
      "index = 0, element = 1\nindex = 1, element = 2.0\nindex = 2, element = tre\nindex = 3, element = (1, 2)\nindex = 4, element = ['a,b']\nindex = 5, element = {'x': 1, 'y': 1}\n"
     ]
    }
   ],
   "source": [
    "for i, e in enumerate(Ls):\n",
    "  print(\"index = {}, element = {}\".format(i,e))"
   ]
  },
  {
   "cell_type": "markdown",
   "metadata": {
    "colab_type": "text",
    "id": "mzDTfBfcUXHZ"
   },
   "source": [
    "You can see that a list is like a special kind of dictionary where the keys are a sequence of increasing integers starting from zero."
   ]
  },
  {
   "cell_type": "markdown",
   "metadata": {
    "colab_type": "text",
    "id": "dw2GtTwWMleq"
   },
   "source": [
    "### 1.3.3 While Loops\n",
    "The syntax for the `while` loop is pretty standard, and once you get used to the Python syntax style, it should be also intuitive:\n",
    "\n",
    "```\n",
    "while <conditionIsTrue>:\n",
    "  <block of code>\n",
    "```\n",
    "\n",
    "Which can be used as follows."
   ]
  },
  {
   "cell_type": "code",
   "execution_count": 53,
   "metadata": {
    "colab": {
     "base_uri": "https://localhost:8080/",
     "height": 189
    },
    "colab_type": "code",
    "id": "K3EKLGndM_vR",
    "outputId": "534dee88-264e-4807-d246-a9dc0da576ee"
   },
   "outputs": [
    {
     "output_type": "stream",
     "name": "stdout",
     "text": [
      "3\n6\n9\n12\n15\n18\n21\n24\n27\n30\n"
     ]
    }
   ],
   "source": [
    "counter = 3\n",
    "while counter <= 30:\n",
    "  print(counter)\n",
    "  counter += 3"
   ]
  },
  {
   "cell_type": "markdown",
   "metadata": {
    "colab_type": "text",
    "id": "RAGjP8kNNPyC"
   },
   "source": [
    "As usual with Python:\n",
    "> PAY ATTENTION TO THE INDENTATION SPACE AT THE BEGINNING OF A LINE"
   ]
  },
  {
   "cell_type": "markdown",
   "metadata": {
    "colab_type": "text",
    "id": "5LEu-fpSKwVx"
   },
   "source": [
    "### 1.3.4 Exceptions\n",
    "An [exception](https://docs.python.org/3/tutorial/errors.html) breaks the normal execution flow of a program in exceptional cases, such as, when encountering unplanned errors.\n",
    "\n",
    "By running this notebook by your own, you have likely already encountered exceptions, as a way of reporting errors from the Python interpreter."
   ]
  },
  {
   "cell_type": "code",
   "execution_count": 54,
   "metadata": {
    "colab": {
     "base_uri": "https://localhost:8080/",
     "height": 183
    },
    "colab_type": "code",
    "id": "EH3h14zzVXOE",
    "outputId": "302835ae-69c3-4b3d-f851-3b5b77bfc9a3"
   },
   "outputs": [
    {
     "output_type": "error",
     "ename": "TypeError",
     "evalue": "'tuple' object does not support item assignment",
     "traceback": [
      "\u001b[0;31m---------------------------------------------------------------------------\u001b[0m",
      "\u001b[0;31mTypeError\u001b[0m                                 Traceback (most recent call last)",
      "\u001b[0;32m<ipython-input-54-a91c8ff3d5c2>\u001b[0m in \u001b[0;36m<module>\u001b[0;34m\u001b[0m\n\u001b[1;32m      1\u001b[0m \u001b[0mp\u001b[0m \u001b[0;34m=\u001b[0m \u001b[0;34m(\u001b[0m\u001b[0;36m1\u001b[0m\u001b[0;34m,\u001b[0m\u001b[0;36m2\u001b[0m\u001b[0;34m)\u001b[0m\u001b[0;34m\u001b[0m\u001b[0;34m\u001b[0m\u001b[0m\n\u001b[0;32m----> 2\u001b[0;31m \u001b[0mp\u001b[0m\u001b[0;34m[\u001b[0m\u001b[0;36m0\u001b[0m\u001b[0;34m]\u001b[0m \u001b[0;34m=\u001b[0m \u001b[0;34m\"a\"\u001b[0m\u001b[0;34m\u001b[0m\u001b[0;34m\u001b[0m\u001b[0m\n\u001b[0m",
      "\u001b[0;31mTypeError\u001b[0m: 'tuple' object does not support item assignment"
     ]
    }
   ],
   "source": [
    "p = (1,2)\n",
    "p[0] = \"a\""
   ]
  },
  {
   "cell_type": "markdown",
   "metadata": {
    "colab_type": "text",
    "id": "mQre9PbHVlXh"
   },
   "source": [
    "In this case, the exception was **raised** by some internal function of the Python interpreter. \n",
    "\n",
    "In order to control the execution flow of a program, the exceptions can be **caught** using the following syntax:"
   ]
  },
  {
   "cell_type": "code",
   "execution_count": 55,
   "metadata": {
    "colab": {
     "base_uri": "https://localhost:8080/",
     "height": 51
    },
    "colab_type": "code",
    "id": "cBXqvwQZKJEx",
    "outputId": "4ce6fd39-aca1-4467-b6e2-f8632348a53a"
   },
   "outputs": [
    {
     "output_type": "stream",
     "name": "stdout",
     "text": [
      "'tuple' object does not support item assignment\n<class 'TypeError'>\n"
     ]
    }
   ],
   "source": [
    "try:\n",
    "  # Block of code that might be raise an exception\n",
    "  p = (1,2)\n",
    "  p[0] = \"a\"\n",
    "except Exception as e:\n",
    "  # Block of code executed in case of an exception\n",
    "  print(e)\n",
    "  print(type(e))"
   ]
  },
  {
   "cell_type": "markdown",
   "metadata": {
    "colab_type": "text",
    "id": "jwdREYEfYG-v"
   },
   "source": [
    "There are several different types of exceptions in Python, and you should familiarize with those types, in order to identify the errors in yours programs. A complete list of exceptions is available on the official documentation: [Builtin Exceptions](https://docs.python.org/3/library/exceptions.html#bltin-exceptions)."
   ]
  },
  {
   "cell_type": "markdown",
   "metadata": {
    "colab_type": "text",
    "id": "MNyFM_fjZa-5"
   },
   "source": [
    "When you are writing your own function (see next section), for example for parsing a text file, you might need to raise an exception whenever an input file does not meet the given specification. \n",
    "\n",
    "To raise an exception, the Python syntax is as follow:\n",
    "\n",
    "```\n",
    "  raise Exception(\"<YOUR ERROR MESSAGE>\")\n",
    "```\n",
    "\n",
    "For instance, if you would like to handle only positive numbers, you can write the following code:"
   ]
  },
  {
   "cell_type": "code",
   "execution_count": 56,
   "metadata": {
    "colab": {
     "base_uri": "https://localhost:8080/",
     "height": 200
    },
    "colab_type": "code",
    "id": "grfyF-D0aBRX",
    "outputId": "a6f3b22b-fc17-4558-8117-034e38377ec6"
   },
   "outputs": [
    {
     "output_type": "error",
     "ename": "Exception",
     "evalue": "I deal only with positive numbers!",
     "traceback": [
      "\u001b[0;31m---------------------------------------------------------------------------\u001b[0m",
      "\u001b[0;31mException\u001b[0m                                 Traceback (most recent call last)",
      "\u001b[0;32m<ipython-input-56-e06b21154491>\u001b[0m in \u001b[0;36m<module>\u001b[0;34m\u001b[0m\n\u001b[1;32m      2\u001b[0m \u001b[0ma\u001b[0m \u001b[0;34m=\u001b[0m \u001b[0;34m-\u001b[0m\u001b[0;36m1\u001b[0m\u001b[0;34m\u001b[0m\u001b[0;34m\u001b[0m\u001b[0m\n\u001b[1;32m      3\u001b[0m \u001b[0;32mif\u001b[0m \u001b[0ma\u001b[0m \u001b[0;34m<\u001b[0m \u001b[0;36m0\u001b[0m\u001b[0;34m:\u001b[0m\u001b[0;34m\u001b[0m\u001b[0;34m\u001b[0m\u001b[0m\n\u001b[0;32m----> 4\u001b[0;31m   \u001b[0;32mraise\u001b[0m \u001b[0mException\u001b[0m\u001b[0;34m(\u001b[0m\u001b[0;34m\"I deal only with positive numbers!\"\u001b[0m\u001b[0;34m)\u001b[0m\u001b[0;34m\u001b[0m\u001b[0;34m\u001b[0m\u001b[0m\n\u001b[0m",
      "\u001b[0;31mException\u001b[0m: I deal only with positive numbers!"
     ]
    }
   ],
   "source": [
    "# NOTE: The purpose of this snippet is only of showing how to raise an exception\n",
    "a = -1\n",
    "if a < 0:\n",
    "  raise Exception(\"I deal only with positive numbers!\")\n"
   ]
  },
  {
   "cell_type": "markdown",
   "metadata": {
    "colab_type": "text",
    "id": "UvhL0Fi7aVMw"
   },
   "source": [
    "At this point, as a side effect, it should be also easier to understand the errors encountered when trying to execute a Python program."
   ]
  },
  {
   "cell_type": "markdown",
   "metadata": {
    "colab_type": "text",
    "id": "QRrwB5RoKJ8h"
   },
   "source": [
    "## 1.4 Functions\n",
    "In all the previous paragraphs, we have illustrated the basic data type and the fundamental statements for controlling the execution flow of a program.\n",
    "\n",
    "In this section, we review how we can organize our code in small blocks, each block corresponding to a specific function or procedure.\n"
   ]
  },
  {
   "cell_type": "markdown",
   "metadata": {
    "colab_type": "text",
    "id": "bXAY8ahyWmLH"
   },
   "source": [
    "### 1.4.1 Pure Functions\n",
    "You can think of computer programming *pure* functions as they were mathematical functions, where the output depends only on the input (we have zero side effects). \n",
    "\n",
    "Consider the function of computing hypotenuse of a triangle: $c^2 = a^2 + b^2$. We can write a small **function** that compute the square of the hypotenuse length $c$, given the two values of $a$ and $b$:"
   ]
  },
  {
   "cell_type": "code",
   "execution_count": 57,
   "metadata": {
    "colab": {},
    "colab_type": "code",
    "id": "m2mCGmVpb-XD"
   },
   "outputs": [],
   "source": [
    "def SquareHypotenuse(a, b):\n",
    "  c = a**2 + b**2\n",
    "  return c"
   ]
  },
  {
   "cell_type": "markdown",
   "metadata": {
    "colab_type": "text",
    "id": "ekdIafHDcD9C"
   },
   "source": [
    "In the previous example, we have used the following syntax:\n",
    "\n",
    "```\n",
    "def <FunctionName>(<list of formal parameters, comma separated>):\n",
    "  <block of codes>\n",
    "```\n",
    "\n",
    "There are a few points that must be marked:\n",
    "\n",
    "1. The keyword `def` is reserved and is used to define a function.\n",
    "2. **FunctionName** is any name you want to use to define your function.\n",
    "3. The round parenthesis and the colon are mandatory.\n",
    "4. The **list of formal parameters** is up to you, and it can be of any (reasonable) size.\n",
    "5. **MOST IMPORTANTLY:** the indentations after the **def** keyword are part of the **semantic** of the construct, and denote the scope of the function.\n",
    "6. **Function DEFINITION** is different from **Function INVOCATION**. With the previous block, we have defined the function **Hypotenuse**, but we have not yet passed any actual parameters to the function, which could trigger the computation of the *c* value.\n",
    "\n",
    "If we want to compute the square value of the hypotenuse of a triangle with base equal to 4 and height equal to\n",
    "3, you have to write:"
   ]
  },
  {
   "cell_type": "code",
   "execution_count": 58,
   "metadata": {
    "colab": {
     "base_uri": "https://localhost:8080/",
     "height": 34
    },
    "colab_type": "code",
    "id": "kqBMjyJqcDJf",
    "outputId": "39ba7312-5355-4f1e-bed4-b29778dae6c7"
   },
   "outputs": [
    {
     "output_type": "stream",
     "name": "stdout",
     "text": [
      "25\n"
     ]
    }
   ],
   "source": [
    "b, h = 4, 3  # We are defining and unfolding the pair (4, 5) on the fly\n",
    "hyp = SquareHypotenuse(b, h)\n",
    "print(hyp)"
   ]
  },
  {
   "cell_type": "markdown",
   "metadata": {
    "colab_type": "text",
    "id": "Ov3N9lxEe0iN"
   },
   "source": [
    "Indeed, a large number of mathematical functions are already implemented in Python. For instance, all the basic mathematical functions are implemented in the [math](https://docs.python.org/3/library/math.html?highlight=math#module-math) library.\n",
    "\n",
    "If you want to import a single function (e.g., the square root function [`sqrt()`](https://docs.python.org/3/library/math.html?highlight=math#math.sqrt), you can write:\n",
    "\n"
   ]
  },
  {
   "cell_type": "code",
   "execution_count": 59,
   "metadata": {
    "colab": {
     "base_uri": "https://localhost:8080/",
     "height": 34
    },
    "colab_type": "code",
    "id": "aGie_A62fgBW",
    "outputId": "923c7b11-b9db-4778-fc1f-fac34c9b04c9"
   },
   "outputs": [
    {
     "output_type": "stream",
     "name": "stdout",
     "text": [
      "1.4142135623730951\n"
     ]
    }
   ],
   "source": [
    "from math import sqrt\n",
    "print(sqrt(2))"
   ]
  },
  {
   "cell_type": "markdown",
   "metadata": {
    "colab_type": "text",
    "id": "b0h1aDcyf2BJ"
   },
   "source": [
    "At this point, it should be easy to write a function that compute the actual value of the hypotenuse (and not its square value), by using a function *composition*."
   ]
  },
  {
   "cell_type": "code",
   "execution_count": 60,
   "metadata": {
    "colab": {},
    "colab_type": "code",
    "id": "jR4i8CgFf-bn"
   },
   "outputs": [],
   "source": [
    "def Hypotenuse(a, b):\n",
    "  return sqrt(SquareHypotenuse(a,b))"
   ]
  },
  {
   "cell_type": "code",
   "execution_count": 61,
   "metadata": {
    "colab": {
     "base_uri": "https://localhost:8080/",
     "height": 34
    },
    "colab_type": "code",
    "id": "TiNkB4c0fNao",
    "outputId": "be6c5bff-0f0b-4d24-f71f-6da7b43a9539"
   },
   "outputs": [
    {
     "output_type": "stream",
     "name": "stdout",
     "text": [
      "5.0\n"
     ]
    }
   ],
   "source": [
    "print(Hypotenuse(4,3))"
   ]
  },
  {
   "cell_type": "markdown",
   "metadata": {
    "colab_type": "text",
    "id": "oTNxQ_uAUjNU"
   },
   "source": [
    "Indeed, function can be chained several times."
   ]
  },
  {
   "cell_type": "code",
   "execution_count": 62,
   "metadata": {
    "colab": {
     "base_uri": "https://localhost:8080/",
     "height": 34
    },
    "colab_type": "code",
    "id": "eu-whR6cUiT_",
    "outputId": "9aac681a-b76d-4717-e328-154c34f07afb"
   },
   "outputs": [
    {
     "output_type": "stream",
     "name": "stdout",
     "text": [
      "21.587033144922902\n"
     ]
    }
   ],
   "source": [
    "c = Hypotenuse(Hypotenuse(3,4), 5+2*SquareHypotenuse(2, sqrt(4)))\n",
    "print(c)"
   ]
  },
  {
   "cell_type": "markdown",
   "metadata": {
    "colab_type": "text",
    "id": "cybOAIaKU4Sf"
   },
   "source": [
    "**QUESTIONS:** Can you figure out the order in which the previous expressions are evaluated in order to compute `c`?"
   ]
  },
  {
   "cell_type": "markdown",
   "metadata": {
    "colab_type": "text",
    "id": "GKSpMJgIaLaR"
   },
   "source": [
    "In a function definition, we can also set a default value for any formal parameter, using the following syntax."
   ]
  },
  {
   "cell_type": "code",
   "execution_count": 63,
   "metadata": {
    "colab": {},
    "colab_type": "code",
    "id": "dloEHXuUaTNh"
   },
   "outputs": [],
   "source": [
    "from math import pow\n",
    "def Power(x, n=3):  # The value 3 is the default for formal parameter \"n\"\n",
    "  return x**n\n"
   ]
  },
  {
   "cell_type": "code",
   "execution_count": 64,
   "metadata": {
    "colab": {
     "base_uri": "https://localhost:8080/",
     "height": 34
    },
    "colab_type": "code",
    "id": "-FWxJ-EDaKfB",
    "outputId": "e9d4215a-c586-4017-aaa5-217eb881075d"
   },
   "outputs": [
    {
     "output_type": "stream",
     "name": "stdout",
     "text": [
      "32\n"
     ]
    }
   ],
   "source": [
    "print(Power(2,5))"
   ]
  },
  {
   "cell_type": "code",
   "execution_count": 65,
   "metadata": {
    "colab": {
     "base_uri": "https://localhost:8080/",
     "height": 34
    },
    "colab_type": "code",
    "id": "zVOiZLkfax2b",
    "outputId": "4ff6aed5-271c-4b25-cf96-8aa7c9a4a459"
   },
   "outputs": [
    {
     "output_type": "stream",
     "name": "stdout",
     "text": [
      "27\n"
     ]
    }
   ],
   "source": [
    "print(Power(3))  # Here, the interpreter uses the default value for the second parameter"
   ]
  },
  {
   "cell_type": "markdown",
   "metadata": {
    "colab_type": "text",
    "id": "qX2RqISIK4Db"
   },
   "source": [
    "### 1.4.2 Procedures\n",
    "Procedure are like functions, but they do not explicitly return any value."
   ]
  },
  {
   "cell_type": "code",
   "execution_count": 66,
   "metadata": {
    "colab": {},
    "colab_type": "code",
    "id": "-MUxmXhSXmrj"
   },
   "outputs": [],
   "source": [
    "def Print(a, b, c=77):\n",
    "  print(\"a = {}, b = {}, c = {}\".format(a, b, c))"
   ]
  },
  {
   "cell_type": "code",
   "execution_count": 67,
   "metadata": {
    "colab": {
     "base_uri": "https://localhost:8080/",
     "height": 34
    },
    "colab_type": "code",
    "id": "rdFZdatQXwVB",
    "outputId": "dc56cfd8-d3f3-4021-dc56-2ce3aa2d3ba0"
   },
   "outputs": [
    {
     "output_type": "stream",
     "name": "stdout",
     "text": [
      "a = 2, b = 3, c = 77\n"
     ]
    }
   ],
   "source": [
    "Print(2,3)"
   ]
  },
  {
   "cell_type": "markdown",
   "metadata": {
    "colab_type": "text",
    "id": "X63fIx2SX61l"
   },
   "source": [
    "A typical error is to use a procedure as it were a pure function. The syntax is correct, but it is a misuse of the procedure."
   ]
  },
  {
   "cell_type": "code",
   "execution_count": 68,
   "metadata": {
    "colab": {
     "base_uri": "https://localhost:8080/",
     "height": 51
    },
    "colab_type": "code",
    "id": "i2JrACXXYP4N",
    "outputId": "c14abff3-145f-4252-a87f-e095a47f77c3"
   },
   "outputs": [
    {
     "output_type": "stream",
     "name": "stdout",
     "text": [
      "a = -1, b = 4, c = 77\nNone\n"
     ]
    }
   ],
   "source": [
    "d = Print(a, b)\n",
    "print(d)"
   ]
  },
  {
   "cell_type": "markdown",
   "metadata": {
    "colab_type": "text",
    "id": "bsZMwh1PbnaX"
   },
   "source": [
    "Notice that there is not `return` keyword in the procedure `Print(a, b, c)`. However, in this case, it is like there was a `return None` statement at the end of the procedure definition. For this reason, procedure are also called *void functions*."
   ]
  },
  {
   "cell_type": "code",
   "execution_count": 69,
   "metadata": {
    "colab": {},
    "colab_type": "code",
    "id": "rzTq3fiSbmpO"
   },
   "outputs": [],
   "source": [
    "def Print(a, b, c=77):\n",
    "  print(\"a = {}, b = {}, c = {}\".format(a, b, c))\n",
    "  return None"
   ]
  },
  {
   "cell_type": "code",
   "execution_count": 70,
   "metadata": {
    "colab": {
     "base_uri": "https://localhost:8080/",
     "height": 51
    },
    "colab_type": "code",
    "id": "wsNigD95br2B",
    "outputId": "e8f46a48-262c-4fee-8fb5-787187ee18b7"
   },
   "outputs": [
    {
     "output_type": "stream",
     "name": "stdout",
     "text": [
      "a = 1, b = 1, c = 2\nNone\n"
     ]
    }
   ],
   "source": [
    "print(Print(1,1,2))"
   ]
  },
  {
   "cell_type": "code",
   "execution_count": 71,
   "metadata": {
    "colab": {},
    "colab_type": "code",
    "id": "Keyj1pkabwN9"
   },
   "outputs": [],
   "source": [
    "None"
   ]
  },
  {
   "cell_type": "markdown",
   "metadata": {
    "colab_type": "text",
    "id": "F5VNwahzK-Go"
   },
   "source": [
    "### 1.4.3 Lambda Functions\n",
    "In some case, we can use anonymous functions, called `lambda functions`. They are mostly used when we need to pass a function as a actual parameter of a formal parameter (see next section).\n",
    "\n",
    "We can use lambda functions also for one-liner definition of functions.\n"
   ]
  },
  {
   "cell_type": "code",
   "execution_count": 72,
   "metadata": {
    "colab": {},
    "colab_type": "code",
    "id": "bBIuKYtkKOP-"
   },
   "outputs": [],
   "source": [
    "F = lambda x: x*x"
   ]
  },
  {
   "cell_type": "code",
   "execution_count": 73,
   "metadata": {
    "colab": {
     "base_uri": "https://localhost:8080/",
     "height": 34
    },
    "colab_type": "code",
    "id": "WxQ3vZJleAOQ",
    "outputId": "41154bd1-aa56-4ce7-9039-2aa41fe8f9ee"
   },
   "outputs": [
    {
     "output_type": "stream",
     "name": "stdout",
     "text": [
      "4\n"
     ]
    }
   ],
   "source": [
    "print(F(2))"
   ]
  },
  {
   "cell_type": "markdown",
   "metadata": {
    "colab_type": "text",
    "id": "QmfRfWileIQk"
   },
   "source": [
    "### 1.4.4 Map and Filter\n",
    "Among the python builtin functions, we like to stress the importance of [map](https://docs.python.org/3/library/functions.html#map) and [filter](https://docs.python.org/3/library/functions.html#filter).\n",
    "\n",
    "They are high-order functions, that is functions that take as input other functions.\n",
    "\n",
    "The `map` function takes as input a function *f* and any data type that is a sequence (an **iterable** to be precise), and it applies the function *f* to every element of the sequence.\n",
    "\n",
    "The `filter` function takes as input a function *f* and any data type that is a sequence, and it returns a new sequence containing only the elements for which the function *f* returned `True`.\n",
    "\n",
    "For example:"
   ]
  },
  {
   "cell_type": "code",
   "execution_count": 74,
   "metadata": {
    "colab": {
     "base_uri": "https://localhost:8080/",
     "height": 103
    },
    "colab_type": "code",
    "id": "Xun0eGJxfemq",
    "outputId": "e8c0c196-bf82-4dc5-8376-e56b0036bb4e"
   },
   "outputs": [
    {
     "output_type": "stream",
     "name": "stdout",
     "text": [
      "1\n4\n9\n16\n25\n"
     ]
    }
   ],
   "source": [
    "Ls = [1, 2, 3, 4, 5]   # String, list, tuple, dictionaries are iterable\n",
    "for e in map(lambda x: x*x, Ls):\n",
    "  print(e)"
   ]
  },
  {
   "cell_type": "code",
   "execution_count": 75,
   "metadata": {
    "colab": {},
    "colab_type": "code",
    "id": "NQKJtKFgiFyX"
   },
   "outputs": [
    {
     "output_type": "stream",
     "name": "stdout",
     "text": [
      "2\n4\n"
     ]
    }
   ],
   "source": [
    "Ls = [1, 2, 3, 4, 5]   # String, list, tuple, dictionaries are iterable\n",
    "for e in filter(lambda x: x%2 == 0, Ls):\n",
    "  print(e)"
   ]
  },
  {
   "cell_type": "markdown",
   "metadata": {
    "colab_type": "text",
    "id": "KFXmWFNrimVE"
   },
   "source": [
    "In case of doubts, you can always use the online documentation, via the `help()` function."
   ]
  },
  {
   "cell_type": "code",
   "execution_count": 76,
   "metadata": {
    "colab": {},
    "colab_type": "code",
    "id": "kebpByPeeHlU"
   },
   "outputs": [],
   "source": [
    "#help(map)"
   ]
  },
  {
   "cell_type": "code",
   "execution_count": 77,
   "metadata": {
    "colab": {},
    "colab_type": "code",
    "id": "6ZUUamtEityq"
   },
   "outputs": [],
   "source": [
    "#help(filter)"
   ]
  },
  {
   "source": [
    "Note that you can perform the same tasks with list comprehensions. Compare the following: "
   ],
   "cell_type": "markdown",
   "metadata": {}
  },
  {
   "cell_type": "code",
   "execution_count": 78,
   "metadata": {},
   "outputs": [
    {
     "output_type": "stream",
     "name": "stdout",
     "text": [
      "[1, 4, 9, 16, 25]\n",
      "[1, 4, 9, 16, 25]\n"
     ]
    }
   ],
   "source": [
    "Ls = [1, 2, 3, 4, 5]   \n",
    "print( list(map(lambda x: x*x, Ls)) )\n",
    "print( [x*x for x in Ls] )"
   ]
  },
  {
   "cell_type": "code",
   "execution_count": 79,
   "metadata": {},
   "outputs": [
    {
     "output_type": "stream",
     "name": "stdout",
     "text": [
      "[2, 4]\n[2, 4]\n"
     ]
    }
   ],
   "source": [
    "Ls = [1, 2, 3, 4, 5]   # String, list, tuple, dictionaries are iterable\n",
    "print( list( filter(lambda x: x%2 == 0, Ls) ) )\n",
    "print( [x for x in Ls if x%2==0] )"
   ]
  },
  {
   "source": [],
   "cell_type": "markdown",
   "metadata": {}
  },
  {
   "cell_type": "markdown",
   "metadata": {
    "colab_type": "text",
    "id": "a0D3iGziKO3P"
   },
   "source": [
    "## 1.5 Classes and Objects\n",
    "In Sections 1.1 and 1.2 we have seen old plain data types (numbers and strings) and structured data types (tuple, list, dictionaries).\n",
    "\n",
    "In this section, we show how we can define new data types, which can be composed of other data.\n",
    "\n"
   ]
  },
  {
   "cell_type": "markdown",
   "metadata": {
    "colab_type": "text",
    "id": "OLHqsBGhQqwB"
   },
   "source": [
    "### 1.5.1 Syntax\n",
    "The minimal syntax to define a new type of data is the following:\n",
    "\n",
    "```\n",
    "class <NameOfClass>(object):\n",
    "  def __init__(self):\n",
    "    self.<nameOfVariable> = <value>\n",
    "    ...\n",
    "  def __str__(self):\n",
    "    s = <convert the data type to a representative string>\n",
    "    return s\n",
    "  def __repr__(self):  # This is recommended\n",
    "    return self.__str__()\n",
    "```\n",
    "\n",
    "The term *class* is here a synonym of **type**, and it is used to inform the interpreter that in the following lines of code we are declaring a new data type. The basic methods that every class should have are:\n",
    "\n",
    "1. The constructor method `__init__(self)`, which is used to initialize the internal data of the class. The method can take on or more parameters in input, as we will see in the next example.\n",
    "\n",
    "2. The string conversion method `__str__(self)` that is use to return a string which gives a human readable representation of the actual values of the class attributes.\n",
    "\n",
    "3. The method `__repr__(self)` is used here as a proxy of `__str__(self)`. It is convenient for printing list of user defined objects."
   ]
  },
  {
   "cell_type": "markdown",
   "metadata": {
    "colab_type": "text",
    "id": "47VdbQttMTqd"
   },
   "source": [
    "### 1.5.2 Example: Discrete Distributions in $\\mathbb{R}^3$\n",
    "We have to represent a discrete measure $\\mu(X)$ with $X \\subseteq \\mathbb{R}^3$. Suppose we are given a finite number of $n$ support points $\\mathbf{x}_i \\subseteq \\mathbb{R}^3$ of weight $w_i \\in \\mathbb{R}$, then we can define the discrete measure:\n",
    "\n",
    "$$\n",
    "\\delta = \\sum_{i = 1}^n w_i \\delta(\\mathbf{x}_i)\n",
    "$$\n",
    "\n",
    "\n",
    "**QUESTION:** How can we define a class for the type **point in $\\mathbb{R}^3$**?\n",
    "\n",
    "**QUESTION:** How can we define a class for the type **discrete measure**?\n",
    "\n"
   ]
  },
  {
   "cell_type": "markdown",
   "metadata": {
    "colab_type": "text",
    "id": "PFrlvDYtPQJ2"
   },
   "source": [
    "A point of $\\mathbb{R}^3$ can be represented with a tuple of 3 floats with the following class."
   ]
  },
  {
   "cell_type": "code",
   "execution_count": 80,
   "metadata": {
    "colab": {},
    "colab_type": "code",
    "id": "SbtwOml1PZP4"
   },
   "outputs": [],
   "source": [
    "class Point3D(object):\n",
    "  def __init__(self, x1=0, x2=0, x3=0):\n",
    "    self.x1 = x1\n",
    "    self.x2 = x2\n",
    "    self.x3 = x3\n",
    "  def __str__(self):\n",
    "    return \"( x1 = {}, x2 = {}, x3 = {} )\".format(self.x1, self.x2, self.x3)\n",
    "  def __repr__(self):\n",
    "    return self.__str__()"
   ]
  },
  {
   "cell_type": "markdown",
   "metadata": {
    "colab_type": "text",
    "id": "fDKFuL-qP4aj"
   },
   "source": [
    "So far, we have just defined a new data type, that is, a new class. Until here, it is like we were declaring a new function. However, as with function we are interested in **applying** a function to given values to get the result value, with a class we are interested in **applying** the class to data to get an **instance** of a class, that is an **object** of the type defined by the corresponding **class**.\n",
    "\n",
    "To get three objects of type `Point3D`, we can run the following code."
   ]
  },
  {
   "cell_type": "code",
   "execution_count": 81,
   "metadata": {
    "colab": {
     "base_uri": "https://localhost:8080/",
     "height": 68
    },
    "colab_type": "code",
    "id": "UEu7wVY_KTRh",
    "outputId": "7ae3eef3-9324-4dba-d685-c20e62017f08"
   },
   "outputs": [
    {
     "output_type": "stream",
     "name": "stdout",
     "text": [
      "( x1 = 0, x2 = 0, x3 = 0 )\n",
      "( x1 = 1, x2 = 1, x3 = 1 )\n",
      "( x1 = 0, x2 = 0, x3 = -1 )\n"
     ]
    }
   ],
   "source": [
    "P1 = Point3D()\n",
    "P2 = Point3D(1, 1, 1)\n",
    "P3 = Point3D(x3 = -1)\n",
    "print(P1)\n",
    "print(P2)\n",
    "print(P3)"
   ]
  },
  {
   "cell_type": "markdown",
   "metadata": {
    "colab_type": "text",
    "id": "GWJbpDHnRxQw"
   },
   "source": [
    "Suppose we want to create a list of 10 random points where every coordinates takes value in the interval $[0..1]$. We can use the Python [random library](https://docs.python.org/3/library/random.html) as follows."
   ]
  },
  {
   "cell_type": "code",
   "execution_count": 82,
   "metadata": {
    "colab": {
     "base_uri": "https://localhost:8080/",
     "height": 54
    },
    "colab_type": "code",
    "id": "K5SIyEZfLPFx",
    "outputId": "f8758687-8a58-40c0-aa8e-b48a86698223"
   },
   "outputs": [
    {
     "output_type": "stream",
     "name": "stdout",
     "text": [
      "[( x1 = 0.3013577023542213, x2 = 0.5332634530101967, x3 = 0.9922231317403968 ), ( x1 = 0.47319388610339697, x2 = 0.7753083164583009, x3 = 0.9292726156150052 ), ( x1 = 0.05226689432253273, x2 = 0.6298175540849318, x3 = 0.24908385462862837 ), ( x1 = 0.39874265353864025, x2 = 0.13492127730541437, x3 = 0.13504490096213329 ), ( x1 = 0.9587692016039289, x2 = 0.8576905304373671, x3 = 0.6616471257273128 ), ( x1 = 0.6521273671427498, x2 = 0.9790201050326905, x3 = 0.36182628090585633 ), ( x1 = 0.8580206013537117, x2 = 0.601981442241991, x3 = 0.22861415808705343 ), ( x1 = 0.7570202789571296, x2 = 0.015510020033299488, x3 = 0.38897836912643 ), ( x1 = 0.3068508155608529, x2 = 0.894960573495262, x3 = 0.5489743472791299 ), ( x1 = 0.7821079476595159, x2 = 0.7740099609369913, x3 = 0.2526453031406216 )]\n"
     ]
    }
   ],
   "source": [
    "from random import random, uniform, seed\n",
    "Xs = []\n",
    "for _ in range(10):\n",
    "  Xs.append(Point3D(random(), random(), random()))\n",
    "print(Xs)"
   ]
  },
  {
   "cell_type": "code",
   "execution_count": 83,
   "metadata": {
    "colab": {
     "base_uri": "https://localhost:8080/",
     "height": 189
    },
    "colab_type": "code",
    "id": "iZZEvLlPTbVQ",
    "outputId": "a7cb09fd-c5b3-46e1-c2ed-0e7e2afa0326"
   },
   "outputs": [
    {
     "output_type": "stream",
     "name": "stdout",
     "text": [
      "( x1 = 0.3013577023542213, x2 = 0.5332634530101967, x3 = 0.9922231317403968 )\n( x1 = 0.47319388610339697, x2 = 0.7753083164583009, x3 = 0.9292726156150052 )\n( x1 = 0.05226689432253273, x2 = 0.6298175540849318, x3 = 0.24908385462862837 )\n( x1 = 0.39874265353864025, x2 = 0.13492127730541437, x3 = 0.13504490096213329 )\n( x1 = 0.9587692016039289, x2 = 0.8576905304373671, x3 = 0.6616471257273128 )\n( x1 = 0.6521273671427498, x2 = 0.9790201050326905, x3 = 0.36182628090585633 )\n( x1 = 0.8580206013537117, x2 = 0.601981442241991, x3 = 0.22861415808705343 )\n( x1 = 0.7570202789571296, x2 = 0.015510020033299488, x3 = 0.38897836912643 )\n( x1 = 0.3068508155608529, x2 = 0.894960573495262, x3 = 0.5489743472791299 )\n( x1 = 0.7821079476595159, x2 = 0.7740099609369913, x3 = 0.2526453031406216 )\n"
     ]
    }
   ],
   "source": [
    "for p in Xs:\n",
    "  print(p)"
   ]
  },
  {
   "cell_type": "markdown",
   "metadata": {
    "colab_type": "text",
    "id": "7J9mbpcYUP2t"
   },
   "source": [
    "If we want to generate 10 random weights $w_i$ that sum up to 1, we can run the following code."
   ]
  },
  {
   "cell_type": "code",
   "execution_count": 84,
   "metadata": {
    "colab": {},
    "colab_type": "code",
    "id": "SvFzEnK0T33_"
   },
   "outputs": [],
   "source": [
    "def RandomWeights(n, a=0, b=100):\n",
    "  Ws = []\n",
    "  # Generate random points with given Uniform distributions\n",
    "  for _ in range(n): # the underscore _ indicates that we are not capturing the values \n",
    "    Ws.append(uniform(a, b))\n",
    "  # Normalize vector\n",
    "  tot = sum(Ws)\n",
    "  for i, w in enumerate(Ws):\n",
    "    Ws[i] = w/tot\n",
    "  return Ws"
   ]
  },
  {
   "cell_type": "code",
   "execution_count": 85,
   "metadata": {
    "colab": {},
    "colab_type": "code",
    "id": "l0uSyC0VVdTO"
   },
   "outputs": [],
   "source": [
    "Ws = RandomWeights(10)"
   ]
  },
  {
   "cell_type": "code",
   "execution_count": 86,
   "metadata": {
    "colab": {
     "base_uri": "https://localhost:8080/",
     "height": 54
    },
    "colab_type": "code",
    "id": "wK_01lWeVmjI",
    "outputId": "835c1a64-8c3b-42aa-9ee8-ca45ca477c6d"
   },
   "outputs": [
    {
     "output_type": "stream",
     "name": "stdout",
     "text": [
      "[0.041244302798737184, 0.09901009869220913, 0.18261277147813673, 0.07968498623501911, 0.02963993442908386, 0.10798017121830887, 0.02080645772131655, 0.14854711860332742, 0.12827283138724646, 0.1622013274366148]\n"
     ]
    }
   ],
   "source": [
    "print(Ws)"
   ]
  },
  {
   "cell_type": "code",
   "execution_count": 87,
   "metadata": {
    "colab": {
     "base_uri": "https://localhost:8080/",
     "height": 189
    },
    "colab_type": "code",
    "id": "UQnniYJVVskO",
    "outputId": "6326b4a2-1c0a-43f6-b002-64941b7e4038"
   },
   "outputs": [
    {
     "output_type": "stream",
     "name": "stdout",
     "text": [
      "0.041\n0.099\n0.183\n0.08\n0.03\n0.108\n0.021\n0.149\n0.128\n0.162\n"
     ]
    }
   ],
   "source": [
    "for w in Ws:\n",
    "  print(round(w, 3))"
   ]
  },
  {
   "cell_type": "code",
   "execution_count": 88,
   "metadata": {
    "colab": {
     "base_uri": "https://localhost:8080/",
     "height": 34
    },
    "colab_type": "code",
    "id": "RQBzNeD2W3rC",
    "outputId": "34799253-afc6-42c8-8295-c9738f7aa009"
   },
   "outputs": [
    {
     "output_type": "execute_result",
     "data": {
      "text/plain": [
       "1.0000000000000002"
      ]
     },
     "metadata": {},
     "execution_count": 88
    }
   ],
   "source": [
    "sum(Ws)"
   ]
  },
  {
   "cell_type": "markdown",
   "metadata": {
    "colab_type": "text",
    "id": "GAePZWXgXIfc"
   },
   "source": [
    "**QUESTION:** How can we compose all the code that we have just seen to define a class of type **DiscreteMeasure**?\n",
    "\n",
    "A possibility is the following."
   ]
  },
  {
   "cell_type": "code",
   "execution_count": 89,
   "metadata": {
    "colab": {},
    "colab_type": "code",
    "id": "RAVZI_MOW7nG"
   },
   "outputs": [],
   "source": [
    "class DiscreteMeasure(object):\n",
    "  def __init__(self, n, a=0, b=100):\n",
    "    # Sample 1n random points in R^3\n",
    "    self.Xs = [Point3D(uniform(a, b), uniform(a, b), uniform(a, b)) for _ in range(n)]\n",
    "    # Sample a random point of the simplex of dimension n\n",
    "    Ws = []\n",
    "    for _ in range(n):\n",
    "      Ws.append(random())\n",
    "    tot = sum(Ws)\n",
    "    for i, w in enumerate(Ws):\n",
    "      Ws[i] = w/tot\n",
    "    self.Ws = Ws\n",
    "\n",
    "  def __str__(self):\n",
    "    s = \"[\"\n",
    "    for i, (x, w) in enumerate(zip(self.Xs, self.Ws)):\n",
    "      s += \"w_{} ={}, p_{} = {},\\n\".format(i, str(w), i, str(x))\n",
    "    s += ']'\n",
    "    return s.replace(',\\n]',']')"
   ]
  },
  {
   "cell_type": "code",
   "execution_count": 90,
   "metadata": {
    "colab": {},
    "colab_type": "code",
    "id": "ijDIog0cYVue"
   },
   "outputs": [],
   "source": [
    "delta = DiscreteMeasure(5)"
   ]
  },
  {
   "cell_type": "code",
   "execution_count": 91,
   "metadata": {
    "colab": {
     "base_uri": "https://localhost:8080/",
     "height": 123
    },
    "colab_type": "code",
    "id": "DbZ8LP2BYng6",
    "outputId": "351f10a5-e0ba-4443-efda-fc2c6c53dc09"
   },
   "outputs": [
    {
     "output_type": "stream",
     "name": "stdout",
     "text": [
      "[w_0 =0.22137184739971852, p_0 = ( x1 = 90.68991949085171, x2 = 32.83199576055203, x3 = 90.94244669270502 ),\nw_1 =0.2352296921698369, p_1 = ( x1 = 36.57267746565249, x2 = 99.12348390106038, x3 = 78.32720837469338 ),\nw_2 =0.29254736240962514, p_2 = ( x1 = 78.72819100595062, x2 = 62.270561858400576, x3 = 22.15665199104788 ),\nw_3 =0.10139447060307474, p_3 = ( x1 = 51.095762995996516, x2 = 16.95581653650716, x3 = 6.111600392772997 ),\nw_4 =0.14945662741774476, p_4 = ( x1 = 70.2897163573275, x2 = 2.8554935989289265, x3 = 5.542361226779457 )]\n"
     ]
    }
   ],
   "source": [
    "print(delta)"
   ]
  },
  {
   "cell_type": "markdown",
   "metadata": {
    "colab_type": "text",
    "id": "mieLMDucaV3k"
   },
   "source": [
    "# 1.6 Plotting\n",
    "\n",
    "Finally, we want to plot our discrete distribution on $\\mathbb{R}^3$.\n",
    "\n",
    "For this task, we will use [Matplotlib](https://matplotlib.org/). We show here directly how to represent our discrete distribution using a [3D scatterplot](https://matplotlib.org/3.2.0/gallery/mplot3d/scatter3d.html).\n"
   ]
  },
  {
   "cell_type": "code",
   "execution_count": 93,
   "metadata": {
    "colab": {
     "base_uri": "https://localhost:8080/",
     "height": 463
    },
    "colab_type": "code",
    "id": "jJrmatIwYtx1",
    "outputId": "5926b45a-09c4-4db8-ab8f-b179f1054c0e"
   },
   "outputs": [
    {
     "output_type": "display_data",
     "data": {
      "text/plain": "<Figure size 576x432 with 1 Axes>",
      "image/png": "[encoded data removed]"
     },
     "metadata": {
      "needs_background": "light"
     }
    }
   ],
   "source": [
    "# Two random discrete distributions\n",
    "mu = DiscreteMeasure(40, 10, 30)\n",
    "nu = DiscreteMeasure(100, 25, 50)\n",
    "\n",
    "# Import of plot libraries\n",
    "import matplotlib.pyplot as plt\n",
    "from mpl_toolkits.mplot3d import Axes3D\n",
    "# Create a figure\n",
    "fig = plt.figure(figsize=(8,6))\n",
    "ax = Axes3D(fig)\n",
    "# Scatter plot of first distribution\n",
    "ax.scatter([p.x1 for p in mu.Xs], \n",
    "           [p.x2 for p in mu.Xs],\n",
    "           [p.x3 for p in mu.Xs],\n",
    "           s=[(2000*w) for w in mu.Ws],  # Dot size linear with weights value\n",
    "           color='darkblue', alpha=0.3,  # Set color and transparency\n",
    "           marker='o')\n",
    "# Scatter plot of second distribution\n",
    "ax.scatter([p.x1 for p in nu.Xs], \n",
    "           [p.x2 for p in nu.Xs],\n",
    "           [p.x3 for p in nu.Xs], \n",
    "           s=[(2000*w) for w in nu.Ws],  # Dot size linear with weights value\n",
    "           color='red', alpha=0.3,       # Set color and transparency\n",
    "           marker='o')\n",
    "# Labels for axis\n",
    "ax.set_xlabel('X')\n",
    "ax.set_ylabel('Y')\n",
    "ax.set_zlabel('Z')\n",
    "# Visualize the plot\n",
    "plt.show()"
   ]
  }
 ],
 "metadata": {
  "colab": {
   "name": "Python in a Nutshell.ipynb",
   "provenance": []
  },
  "kernelspec": {
   "display_name": "Python 3",
   "language": "python",
   "name": "python3"
  },
  "language_info": {
   "codemirror_mode": {
    "name": "ipython",
    "version": 3
   },
   "file_extension": ".py",
   "mimetype": "text/x-python",
   "name": "python",
   "nbconvert_exporter": "python",
   "pygments_lexer": "ipython3",
   "version": "3.6.9-final"
  },
  "latex_envs": {
   "LaTeX_envs_menu_present": true,
   "autoclose": false,
   "autocomplete": true,
   "bibliofile": "biblio.bib",
   "cite_by": "apalike",
   "current_citInitial": 1,
   "eqLabelWithNumbers": true,
   "eqNumInitial": 1,
   "hotkeys": {
    "equation": "Ctrl-E",
    "itemize": "Ctrl-I"
   },
   "labels_anchors": false,
   "latex_user_defs": false,
   "report_style_numbering": false,
   "user_envs_cfg": false
  }
 },
 "nbformat": 4,
 "nbformat_minor": 2
}