{
 "cells": [
  {
   "cell_type": "markdown",
   "metadata": {},
   "source": [
    "# Task 1"
   ]
  },
  {
   "cell_type": "markdown",
   "metadata": {},
   "source": [
    "### Subtask a."
   ]
  },
  {
   "cell_type": "code",
   "execution_count": 36,
   "metadata": {},
   "outputs": [],
   "source": [
    "import numpy as np\n",
    "from fractions import Fraction as f\n",
    "from numpy import linalg as la\n",
    "np.set_printoptions(precision=3,suppress=True)"
   ]
  },
  {
   "cell_type": "code",
   "execution_count": 39,
   "metadata": {},
   "outputs": [
    {
     "name": "stdout",
     "output_type": "stream",
     "text": [
      "[[0.    0.5   0.    0.   ]\n",
      " [0.333 0.    0.    0.   ]\n",
      " [0.333 0.5   0.    0.   ]\n",
      " [0.333 0.    1.    1.   ]]\n"
     ]
    },
    {
     "data": {
      "text/plain": [
       "array([0., 0., 0., 1.])"
      ]
     },
     "execution_count": 39,
     "metadata": {},
     "output_type": "execute_result"
    }
   ],
   "source": [
    "#def f(p,q=1):\n",
    "#    return p/q\n",
    "\n",
    "#A=np.array([[f(0),f(1,2),f(0),f(0)],[f(1,3),f(0),f(0),f(0)],[f(1,3),f(1,2),f(0),f(0)],[f(1,3),f(0),f(1,1),f(1)]])\n",
    "A=np.array([[0,1/2,0,0],[1/3,0,0,0],[1/3,1/2,0,0],[1/3,0,1/1,1]])\n",
    "print(A)\n",
    "#la.det(A)\n",
    "x_0=np.array([0,1,0,0])\n",
    "\n",
    "A_n=A\n",
    "for i in range(21):\n",
    "    A_n = np.dot(A_n,A)\n",
    "x_n = np.dot(A_n,x_0)\n",
    "x_n"
   ]
  },
  {
   "cell_type": "code",
   "execution_count": 31,
   "metadata": {},
   "outputs": [
    {
     "data": {
      "text/plain": [
       "(array([ 1.        ,  0.        ,  0.40824829, -0.40824829]),\n",
       " array([[ 0.        ,  0.        ,  0.23462955,  0.73820659],\n",
       "        [ 0.        ,  0.        ,  0.19157423, -0.60274316],\n",
       "        [ 0.        ,  0.70710678,  0.42620378,  0.13546343],\n",
       "        [ 1.        , -0.70710678, -0.85240755, -0.27092687]]))"
      ]
     },
     "execution_count": 31,
     "metadata": {},
     "output_type": "execute_result"
    }
   ],
   "source": [
    "la.eig(A)"
   ]
  },
  {
   "cell_type": "markdown",
   "metadata": {},
   "source": [
    "### Subtask c."
   ]
  },
  {
   "cell_type": "markdown",
   "metadata": {},
   "source": [
    "Since every column of $A_1$ sums to 1, every column of $0.85A_1$\n",
    "  sums to $0.85$, and since every column of $A_2$ sums to 1, every column of\n",
    "  $0.15A_2$ sums to $0.15$, so (finally) every column of $0.85A_1 +\n",
    "  0.15A_2$ sums to 1."
   ]
  }
 ],
 "metadata": {
  "kernelspec": {
   "display_name": "Python 3",
   "language": "python",
   "name": "python3"
  },
  "language_info": {
   "codemirror_mode": {
    "name": "ipython",
    "version": 3
   },
   "file_extension": ".py",
   "mimetype": "text/x-python",
   "name": "python",
   "nbconvert_exporter": "python",
   "pygments_lexer": "ipython3",
   "version": "3.6.7"
  }
 },
 "nbformat": 4,
 "nbformat_minor": 2
}
