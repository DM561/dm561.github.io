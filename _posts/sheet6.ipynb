{
 "cells": [
  {
   "cell_type": "markdown",
   "metadata": {},
   "source": [
    "# Task 1"
   ]
  },
  {
   "cell_type": "markdown",
   "metadata": {},
   "source": [
    "### Subtask a."
   ]
  },
  {
   "cell_type": "code",
   "execution_count": 1,
   "metadata": {},
   "outputs": [],
   "source": [
    "import numpy as np\n",
    "from numpy import linalg as la\n",
    "np.set_printoptions(precision=3,suppress=True)"
   ]
  },
  {
   "cell_type": "code",
   "execution_count": 2,
   "metadata": {},
   "outputs": [
    {
     "name": "stdout",
     "output_type": "stream",
     "text": [
      "[[1.    0.    0.    0.5   0.    0.   ]\n",
      " [0.    0.    1.    0.5   0.333 0.5  ]\n",
      " [0.    1.    0.    0.    0.    0.   ]\n",
      " [0.    0.    0.    0.    0.333 0.   ]\n",
      " [0.    0.    0.    0.    0.    0.5  ]\n",
      " [0.    0.    0.    0.    0.333 0.   ]]\n"
     ]
    },
    {
     "data": {
      "text/plain": [
       "0.0"
      ]
     },
     "execution_count": 2,
     "metadata": {},
     "output_type": "execute_result"
    }
   ],
   "source": [
    "A1=np.array([[1,0,0,1/2,0,0],[0,0,1,1/2,1/3,1/2],[0,1,0,0,0,0],[0,0,0,0,1/3,0],[0,0,0,0,0,1/2],[0,0,0,0,1/3,0]])\n",
    "print(A1)\n",
    "la.det(A1)"
   ]
  },
  {
   "cell_type": "markdown",
   "metadata": {},
   "source": [
    "$A$ is a stochastic matrix because all its columns sum up to 1. We apply the Power method to see where the Markov chain converges."
   ]
  },
  {
   "cell_type": "markdown",
   "metadata": {},
   "source": [
    "- if it starts at page 6 and takes an even number of iterations"
   ]
  },
  {
   "cell_type": "code",
   "execution_count": 3,
   "metadata": {},
   "outputs": [
    {
     "data": {
      "text/plain": [
       "array([0.1, 0.7, 0.2, 0. , 0. , 0. ])"
      ]
     },
     "execution_count": 3,
     "metadata": {},
     "output_type": "execute_result"
    }
   ],
   "source": [
    "x_0=np.array([0,0,0,0,0,1])\n",
    "A_n=A1\n",
    "for i in range(22):\n",
    "    A_n = np.dot(A_n,A1)\n",
    "x_n = np.dot(A_n,x_0)\n",
    "x_n"
   ]
  },
  {
   "cell_type": "markdown",
   "metadata": {},
   "source": [
    "- if it starts at page 6 and takes an odd number of iterations"
   ]
  },
  {
   "cell_type": "code",
   "execution_count": 4,
   "metadata": {},
   "outputs": [
    {
     "data": {
      "text/plain": [
       "array([0.1, 0.2, 0.7, 0. , 0. , 0. ])"
      ]
     },
     "execution_count": 4,
     "metadata": {},
     "output_type": "execute_result"
    }
   ],
   "source": [
    "x_0=np.array([0,0,0,0,0,1])\n",
    "A_n=A1\n",
    "for i in range(21):\n",
    "    A_n = np.dot(A_n,A1)\n",
    "x_n = np.dot(A_n,x_0)\n",
    "x_n"
   ]
  },
  {
   "cell_type": "markdown",
   "metadata": {},
   "source": [
    "- if it starts at page 4 and takes an even number of iterations"
   ]
  },
  {
   "cell_type": "code",
   "execution_count": 5,
   "metadata": {},
   "outputs": [
    {
     "data": {
      "text/plain": [
       "array([0.5, 0.5, 0. , 0. , 0. , 0. ])"
      ]
     },
     "execution_count": 5,
     "metadata": {},
     "output_type": "execute_result"
    }
   ],
   "source": [
    "x_0=np.array([0,0,0,1,0,0])\n",
    "A_n=A1\n",
    "for i in range(22):\n",
    "    A_n = np.dot(A_n,A1)\n",
    "x_n = np.dot(A_n,x_0)\n",
    "x_n"
   ]
  },
  {
   "cell_type": "markdown",
   "metadata": {},
   "source": [
    "- if it starts at page 4 and takes an odd number of iterations"
   ]
  },
  {
   "cell_type": "code",
   "execution_count": 6,
   "metadata": {},
   "outputs": [
    {
     "data": {
      "text/plain": [
       "array([0.5, 0. , 0.5, 0. , 0. , 0. ])"
      ]
     },
     "execution_count": 6,
     "metadata": {},
     "output_type": "execute_result"
    }
   ],
   "source": [
    "x_0=np.array([0,0,0,1,0,0])\n",
    "A_n=A1\n",
    "for i in range(21):\n",
    "    A_n = np.dot(A_n,A1)\n",
    "x_n = np.dot(A_n,x_0)\n",
    "x_n"
   ]
  },
  {
   "cell_type": "markdown",
   "metadata": {},
   "source": [
    "So the Markov process does not converge. \n",
    "\n",
    "Remember that:\n",
    "If a Markov chain converges to a steady-state vector $\\vec x$, if $\\lambda_1=1$ is a dominat eigenvalue of $A$.\n",
    "\n",
    "Let's have a look at the eigenvalues of the transition matrix:"
   ]
  },
  {
   "cell_type": "code",
   "execution_count": 7,
   "metadata": {},
   "outputs": [
    {
     "data": {
      "text/plain": [
       "(array([ 1.   ,  1.   , -1.   ,  0.   ,  0.408, -0.408]),\n",
       " array([[ 1.   ,  0.   ,  0.   , -0.408, -0.308, -0.173],\n",
       "        [ 0.   ,  0.707, -0.707,  0.   , -0.251,  0.141],\n",
       "        [ 0.   ,  0.707,  0.707, -0.408, -0.615, -0.346],\n",
       "        [ 0.   ,  0.   , -0.   ,  0.816,  0.364,  0.487],\n",
       "        [ 0.   ,  0.   , -0.   ,  0.   ,  0.446, -0.597],\n",
       "        [ 0.   ,  0.   , -0.   ,  0.   ,  0.364,  0.487]]))"
      ]
     },
     "execution_count": 7,
     "metadata": {},
     "output_type": "execute_result"
    }
   ],
   "source": [
    "la.eig(A1)"
   ]
  },
  {
   "cell_type": "markdown",
   "metadata": {},
   "source": [
    "There are three eigenvalues with absolute value equal to 1, ie, $|\\lambda_i|=1, i=1,2,3$. In general, a stochastic matrix has a dominant eigenvalue equal to one but not in this case. \n",
    "\n",
    "A stochastic matrix has the following properties.\n",
    "The largest absolute value of a stochastic matrix is at most 1 by Gershgorin circle theorem (not discussed in class). Additionally, every stochastic matrix has an \"obvious\" column eigenvector associated to the eigenvalue 1: the vector ${\\boldsymbol {1}}$, whose coordinates are all equal to 1. \n",
    "\n",
    "On the other hand, Perron theorem applied to stochastic matrices tells us that if the stochastic matrix is positive then it has a dominant eigenvalue $\\lambda = 1$. More generally, Frobenius theorem tells us that if the stochastic matrix is nonnegative and irreducible then again it has a dominant eigenvalue $\\lambda = 1$. However, in general stochastic matrices need not be positive or irreducible. \n",
    "\n",
    "In the next subtask we try to modify the transition matrix such that it has all entries positive (no zeros) such that Perron's theorem applies and the corresponding process converges.\n",
    "\n",
    "A Markov process with transition matrix $A$ is said to be *regular* if all the entries of some power of $A$ are positive. It can be shown that if this happens the $A$ has a dominant eigenvalue equal to 1 as well."
   ]
  },
  {
   "cell_type": "markdown",
   "metadata": {},
   "source": [
    "### Subtask b."
   ]
  },
  {
   "cell_type": "code",
   "execution_count": 8,
   "metadata": {},
   "outputs": [],
   "source": [
    "A2 = 1/6*np.ones((6,6))"
   ]
  },
  {
   "cell_type": "code",
   "execution_count": 9,
   "metadata": {},
   "outputs": [
    {
     "data": {
      "text/plain": [
       "array([0.167, 0.167, 0.167, 0.167, 0.167, 0.167])"
      ]
     },
     "execution_count": 9,
     "metadata": {},
     "output_type": "execute_result"
    }
   ],
   "source": [
    "x_0=np.array([0,0,0,1,0,0])\n",
    "A_n=A2\n",
    "for i in range(21):\n",
    "    A_n = np.dot(A_n,A2)\n",
    "x_n = np.dot(A_n,x_0)\n",
    "x_n"
   ]
  },
  {
   "cell_type": "markdown",
   "metadata": {},
   "source": [
    "Hence, every node is eqaully likely and we gain no information."
   ]
  },
  {
   "cell_type": "code",
   "execution_count": 10,
   "metadata": {},
   "outputs": [
    {
     "data": {
      "text/plain": [
       "(array([ 1., -0.,  0.,  0.,  0.,  0.]),\n",
       " array([[ 0.408,  0.   ,  0.767, -0.   , -0.   , -0.   ],\n",
       "        [ 0.408,  0.894,  0.331, -0.134,  0.   ,  0.   ],\n",
       "        [ 0.408, -0.224, -0.275,  0.89 ,  0.   ,  0.   ],\n",
       "        [ 0.408, -0.224, -0.275, -0.252, -0.577, -0.577],\n",
       "        [ 0.408, -0.224, -0.275, -0.252,  0.789, -0.211],\n",
       "        [ 0.408, -0.224, -0.275, -0.252, -0.211,  0.789]]))"
      ]
     },
     "execution_count": 10,
     "metadata": {},
     "output_type": "execute_result"
    }
   ],
   "source": [
    "ell, P = la.eig(A2)\n",
    "ell, P"
   ]
  },
  {
   "cell_type": "markdown",
   "metadata": {},
   "source": [
    "The matrix is positive hence it is a dominant eigenvalue equal to 1. The corresponding eigenvector is a vectors of entries or 1 or normalized as in the matrix P above.\n",
    "\n",
    "If we can calculate the eigenvalues because computationally feasibile as in these small examples, we can also find the steady-state vectors by applying the theory seen on slide 20."
   ]
  },
  {
   "cell_type": "code",
   "execution_count": 11,
   "metadata": {},
   "outputs": [
    {
     "name": "stdout",
     "output_type": "stream",
     "text": [
      "[0.167 0.167 0.167 0.167 0.167 0.167]\n"
     ]
    }
   ],
   "source": [
    "P_inv = la.inv(P) # this is also computationally demanding\n",
    "z_0 = P_inv @ x_0\n",
    "x_n = z_0[0] * P[:,0]\n",
    "print(x_n)"
   ]
  },
  {
   "cell_type": "code",
   "execution_count": 12,
   "metadata": {},
   "outputs": [],
   "source": [
    "### Subtask c."
   ]
  },
  {
   "cell_type": "code",
   "execution_count": 13,
   "metadata": {},
   "outputs": [],
   "source": [
    "A = 0.85 * A1 + 0.15 * A2"
   ]
  },
  {
   "cell_type": "code",
   "execution_count": 14,
   "metadata": {},
   "outputs": [
    {
     "data": {
      "text/plain": [
       "array([0.276, 0.31 , 0.301, 0.036, 0.041, 0.036])"
      ]
     },
     "execution_count": 14,
     "metadata": {},
     "output_type": "execute_result"
    }
   ],
   "source": [
    "x_0=np.array([0,0,0,1,0,0])\n",
    "A_n=A\n",
    "for i in range(21):\n",
    "    A_n = np.dot(A_n,A)\n",
    "x_n = np.dot(A_n,x_0)\n",
    "x_n"
   ]
  },
  {
   "cell_type": "markdown",
   "metadata": {},
   "source": [
    "Hence page 2 has the highest ranking"
   ]
  },
  {
   "cell_type": "code",
   "execution_count": 15,
   "metadata": {},
   "outputs": [
    {
     "data": {
      "text/plain": [
       "(array([ 1.   ,  0.85 , -0.85 ,  0.347, -0.347, -0.   ]),\n",
       " array([[ 0.522,  0.816,  0.   ,  0.308, -0.173,  0.408],\n",
       "        [ 0.618, -0.408,  0.707,  0.251,  0.141,  0.   ],\n",
       "        [ 0.574, -0.408, -0.707,  0.615, -0.346,  0.408],\n",
       "        [ 0.071, -0.   , -0.   , -0.364,  0.487, -0.816],\n",
       "        [ 0.078, -0.   ,  0.   , -0.446, -0.597,  0.   ],\n",
       "        [ 0.071, -0.   , -0.   , -0.364,  0.487,  0.   ]]))"
      ]
     },
     "execution_count": 15,
     "metadata": {},
     "output_type": "execute_result"
    }
   ],
   "source": [
    "ell, P = la.eig(A)\n",
    "ell, P"
   ]
  },
  {
   "cell_type": "code",
   "execution_count": 16,
   "metadata": {},
   "outputs": [
    {
     "name": "stdout",
     "output_type": "stream",
     "text": [
      "[0.27  0.32  0.297 0.036 0.041 0.036]\n"
     ]
    }
   ],
   "source": [
    "P_inv = la.inv(P) # this is also computationally demanding\n",
    "z_0 = P_inv @ x_0\n",
    "x_n = z_0[0] * P[:,0]\n",
    "print(x_n)"
   ]
  },
  {
   "cell_type": "markdown",
   "metadata": {},
   "source": [
    "The slight discrepancies might be due to rounding erros or to an insufficient number of iterations, 21, in the power method. "
   ]
  },
  {
   "cell_type": "markdown",
   "metadata": {},
   "source": [
    "# Task 2"
   ]
  },
  {
   "cell_type": "code",
   "execution_count": 17,
   "metadata": {},
   "outputs": [],
   "source": [
    "with open(\"../assets/top250movies.txt\", encoding=\"utf-8\") as f:\n",
    "    lines = f.readlines()"
   ]
  },
  {
   "cell_type": "code",
   "execution_count": 18,
   "metadata": {},
   "outputs": [],
   "source": [
    "db = {} \n",
    "for line in lines:\n",
    "    entries = line.strip().split(\"/\")\n",
    "    db[entries[0]] = entries[1:]"
   ]
  },
  {
   "cell_type": "markdown",
   "metadata": {},
   "source": [
    "To handle the issue of weights due to repeated co-presences of actors in movies, we can first create a multi directed graph and then convert it in a directed graph with weights on arcs. A multi digraph is a graph that allows multiple arcs between nodes. Alternatively, as hinted by the text of the exercise we could create a adjacency dictionary where for every actor we list the actors that are reached by the first actor (ie, more expensive actors) allowing repeated entries. Then we can construct the digraph using the adjacency dictionary. However, graphs in networkx automatically construct adjacency lists and since library functions are to be preferred in Python because more efficient, we prefer to use the first alternative with multi digraph then converted in digraph.    "
   ]
  },
  {
   "cell_type": "code",
   "execution_count": 19,
   "metadata": {},
   "outputs": [],
   "source": [
    "import networkx as nx\n",
    "\n",
    "MDG = nx.MultiDiGraph()\n",
    "for k in db:\n",
    "    for i in range(len(db[k])):\n",
    "        actor = db[k][i]\n",
    "        MDG.add_edges_from([(cheaper_actor,actor) for cheaper_actor in db[k][(i+1):]])"
   ]
  },
  {
   "cell_type": "code",
   "execution_count": 20,
   "metadata": {},
   "outputs": [
    {
     "data": {
      "text/plain": [
       "(14882, 886259)"
      ]
     },
     "execution_count": 20,
     "metadata": {},
     "output_type": "execute_result"
    }
   ],
   "source": [
    "MDG.number_of_nodes(), MDG.number_of_edges()"
   ]
  },
  {
   "cell_type": "code",
   "execution_count": 21,
   "metadata": {},
   "outputs": [],
   "source": [
    "DG = nx.DiGraph()\n",
    "for node, outgoing_neighbors in MDG.adjacency():\n",
    "    for neighbor, arc_dict in outgoing_neighbors.items():\n",
    "        value = len(arc_dict.values())\n",
    "        DG.add_edge(node, neighbor, weight = value)"
   ]
  },
  {
   "cell_type": "code",
   "execution_count": 22,
   "metadata": {},
   "outputs": [
    {
     "data": {
      "text/plain": [
       "(14882, 880639)"
      ]
     },
     "execution_count": 22,
     "metadata": {},
     "output_type": "execute_result"
    }
   ],
   "source": [
    "DG.number_of_nodes(), DG.number_of_edges()"
   ]
  },
  {
   "cell_type": "code",
   "execution_count": 23,
   "metadata": {},
   "outputs": [],
   "source": [
    "PR = nx.pagerank(DG, alpha=0.7)"
   ]
  },
  {
   "cell_type": "code",
   "execution_count": 24,
   "metadata": {},
   "outputs": [
    {
     "data": {
      "text/plain": [
       "['Leonardo DiCaprio', 'Robert De Niro', 'Tom Hanks', 'Jamie Foxx', 'Al Pacino']"
      ]
     },
     "execution_count": 24,
     "metadata": {},
     "output_type": "execute_result"
    }
   ],
   "source": [
    "sorted(PR, key=PR.get, reverse=True)[0:5]"
   ]
  }
 ],
 "metadata": {
  "kernelspec": {
   "display_name": "Python 3",
   "language": "python",
   "name": "python3"
  },
  "language_info": {
   "codemirror_mode": {
    "name": "ipython",
    "version": 3
   },
   "file_extension": ".py",
   "mimetype": "text/x-python",
   "name": "python",
   "nbconvert_exporter": "python",
   "pygments_lexer": "ipython3",
   "version": "3.6.4"
  }
 },
 "nbformat": 4,
 "nbformat_minor": 2
}
